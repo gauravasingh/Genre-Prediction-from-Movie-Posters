{
    "metadata": {
        "kernelspec": {
            "name": "python3",
            "display_name": "Python 3 (ipykernel)",
            "language": "python"
        },
        "language_info": {
            "name": "python",
            "version": "3.9.12",
            "mimetype": "text/x-python",
            "codemirror_mode": {
                "name": "ipython",
                "version": 3
            },
            "pygments_lexer": "ipython3",
            "nbconvert_exporter": "python",
            "file_extension": ".py"
        },
        "accelerator": "GPU",
        "colab": {
            "collapsed_sections": [],
            "machine_shape": "hm",
            "name": "Movies_genre_predictor_training",
            "provenance": []
        },
        "nteract": {
            "version": "nteract-front-end@1.0.0"
        },
        "kernel_info": {
            "name": "python38-azureml"
        },
        "microsoft": {
            "host": {
                "AzureML": {
                    "notebookHasBeenCompleted": true
                }
            }
        }
    },
    "nbformat_minor": 2,
    "nbformat": 4,
    "cells": [
        {
            "cell_type": "markdown",
            "source": [
                "# **Training - Movie Dataset (Pytorch)**"
            ],
            "metadata": {
                "colab_type": "text",
                "id": "KowdvyGp17bt",
                "azdata_cell_guid": "17c47c85-2b3d-40a9-8aff-6f52321ebea6"
            },
            "attachments": {}
        },
        {
            "cell_type": "markdown",
            "source": [
                "# Step 1: Setup Environment"
            ],
            "metadata": {
                "nteract": {
                    "transient": {
                        "deleting": false
                    }
                },
                "azdata_cell_guid": "28d359a6-a04e-4ae7-9e1d-9335e60865cf"
            }
        },
        {
            "cell_type": "markdown",
            "source": [
                "## Install packages"
            ],
            "metadata": {
                "nteract": {
                    "transient": {
                        "deleting": false
                    }
                },
                "azdata_cell_guid": "f94197e2-f7c0-4a44-ad9e-c75229c10d5f"
            }
        },
        {
            "cell_type": "code",
            "source": [
                "# Uninstall existing packages\n",
                "!pip uninstall azureml-fsspec mltable -y\n",
                "!pip uninstall keras -y\n",
                "!pip uninstall keras-nightly -y\n",
                "!pip uninstall keras-Preprocessing -y\n",
                "!pip uninstall keras-vis -y\n",
                "!pip uninstall tensorflow -y\n",
                "\n",
                "# Install packages (latest verison)\n",
                "!pip install -U azureml-fsspec mltable  # azure ml filesystem\n",
                "!pip install tensorflow==2.11           # tensorflow\n",
                "!pip install keras==2.11                # keras"
            ],
            "metadata": {
                "jupyter": {
                    "source_hidden": false,
                    "outputs_hidden": false
                },
                "nteract": {
                    "transient": {
                        "deleting": false
                    }
                },
                "gather": {
                    "logged": 1671669336945
                },
                "azdata_cell_guid": "8fd88890-2d83-4e50-97ed-cd2415596354",
                "language": "python"
            },
            "outputs": [
                {
                    "output_type": "stream",
                    "name": "stdout",
                    "text": "Found existing installation: azureml-fsspec 0.1.0b3\nUninstalling azureml-fsspec-0.1.0b3:\n  Successfully uninstalled azureml-fsspec-0.1.0b3\nFound existing installation: mltable 1.0.0\nUninstalling mltable-1.0.0:\n  Successfully uninstalled mltable-1.0.0\nFound existing installation: keras 2.11.0\nUninstalling keras-2.11.0:\n  Successfully uninstalled keras-2.11.0\n\u001b[33mWARNING: Skipping keras-nightly as it is not installed.\u001b[0m\n\u001b[33mWARNING: Skipping keras-Preprocessing as it is not installed.\u001b[0m\n\u001b[33mWARNING: Skipping keras-vis as it is not installed.\u001b[0m\nFound existing installation: tensorflow 2.11.0\nUninstalling tensorflow-2.11.0:\n  Successfully uninstalled tensorflow-2.11.0\nCollecting azureml-fsspec\n  Using cached azureml_fsspec-0.1.0b3-py3-none-any.whl (6.6 kB)\nCollecting mltable\n  Using cached mltable-1.0.0-py3-none-any.whl (149 kB)\nRequirement already satisfied, skipping upgrade: azureml-core in /anaconda/envs/azureml_py38/lib/python3.8/site-packages (from azureml-fsspec) (1.47.0)\nRequirement already satisfied, skipping upgrade: fsspec>=2021.6.1 in /anaconda/envs/azureml_py38/lib/python3.8/site-packages (from azureml-fsspec) (2022.10.0)\nRequirement already satisfied, skipping upgrade: azureml-dataprep<4.9.0a,>=4.8.0a in /anaconda/envs/azureml_py38/lib/python3.8/site-packages (from azureml-fsspec) (4.8.3)\nRequirement already satisfied, skipping upgrade: cryptography!=1.9,!=2.0.*,!=2.1.*,!=2.2.*,<41 in /anaconda/envs/azureml_py38/lib/python3.8/site-packages (from mltable) (38.0.1)\nRequirement already satisfied, skipping upgrade: azure-mgmt-core<2.0.0,>=1.3.0 in /anaconda/envs/azureml_py38/lib/python3.8/site-packages (from mltable) (1.3.2)\nRequirement already satisfied, skipping upgrade: python-dateutil<3.0.0,>=2.7.3 in /anaconda/envs/azureml_py38/lib/python3.8/site-packages (from mltable) (2.8.2)\nRequirement already satisfied, skipping upgrade: azure-core!=1.22.0,<2.0.0,>=1.8.0 in /anaconda/envs/azureml_py38/lib/python3.8/site-packages (from mltable) (1.26.0)\nRequirement already satisfied, skipping upgrade: PyJWT<3.0.0 in /anaconda/envs/azureml_py38/lib/python3.8/site-packages (from mltable) (2.4.0)\nRequirement already satisfied, skipping upgrade: pyyaml<7.0.0,>=5.1.0 in /anaconda/envs/azureml_py38/lib/python3.8/site-packages (from mltable) (6.0)\nRequirement already satisfied, skipping upgrade: pytz in /anaconda/envs/azureml_py38/lib/python3.8/site-packages (from mltable) (2022.5)\nRequirement already satisfied, skipping upgrade: jsonschema<5.0.0,>=4.0.0 in /anaconda/envs/azureml_py38/lib/python3.8/site-packages (from mltable) (4.16.0)\nRequirement already satisfied, skipping upgrade: msrest>=0.6.18 in /anaconda/envs/azureml_py38/lib/python3.8/site-packages (from mltable) (0.7.1)\nRequirement already satisfied, skipping upgrade: requests[socks]<3.0.0,>=2.19.1 in /anaconda/envs/azureml_py38/lib/python3.8/site-packages (from azureml-core->azureml-fsspec) (2.28.1)\nRequirement already satisfied, skipping upgrade: pyopenssl<23.0.0 in /anaconda/envs/azureml_py38/lib/python3.8/site-packages (from azureml-core->azureml-fsspec) (22.0.0)\nRequirement already satisfied, skipping upgrade: SecretStorage<4.0.0 in /anaconda/envs/azureml_py38/lib/python3.8/site-packages (from azureml-core->azureml-fsspec) (3.3.3)\nRequirement already satisfied, skipping upgrade: adal<=1.2.7,>=1.2.0 in /anaconda/envs/azureml_py38/lib/python3.8/site-packages (from azureml-core->azureml-fsspec) (1.2.7)\nRequirement already satisfied, skipping upgrade: contextlib2<22.0.0 in /anaconda/envs/azureml_py38/lib/python3.8/site-packages (from azureml-core->azureml-fsspec) (21.6.0)\nRequirement already satisfied, skipping upgrade: azure-common<2.0.0,>=1.1.12 in /anaconda/envs/azureml_py38/lib/python3.8/site-packages (from azureml-core->azureml-fsspec) (1.1.28)\nRequirement already satisfied, skipping upgrade: urllib3<2.0.0,>=1.23 in /anaconda/envs/azureml_py38/lib/python3.8/site-packages (from azureml-core->azureml-fsspec) (1.26.12)\nRequirement already satisfied, skipping upgrade: pkginfo in /anaconda/envs/azureml_py38/lib/python3.8/site-packages (from azureml-core->azureml-fsspec) (1.8.3)\nRequirement already satisfied, skipping upgrade: humanfriendly<11.0,>=4.7 in /anaconda/envs/azureml_py38/lib/python3.8/site-packages (from azureml-core->azureml-fsspec) (10.0)\nRequirement already satisfied, skipping upgrade: azure-mgmt-containerregistry<11,>=8.2.0 in /anaconda/envs/azureml_py38/lib/python3.8/site-packages (from azureml-core->azureml-fsspec) (10.0.0)\nRequirement already satisfied, skipping upgrade: azure-mgmt-authorization<3,>=0.40.0 in /anaconda/envs/azureml_py38/lib/python3.8/site-packages (from azureml-core->azureml-fsspec) (2.0.0)\nRequirement already satisfied, skipping upgrade: paramiko<3.0.0,>=2.0.8 in /anaconda/envs/azureml_py38/lib/python3.8/site-packages (from azureml-core->azureml-fsspec) (2.11.0)\nRequirement already satisfied, skipping upgrade: jmespath<2.0.0 in /anaconda/envs/azureml_py38/lib/python3.8/site-packages (from azureml-core->azureml-fsspec) (0.10.0)\nRequirement already satisfied, skipping upgrade: knack~=0.10.0 in /anaconda/envs/azureml_py38/lib/python3.8/site-packages (from azureml-core->azureml-fsspec) (0.10.0)\nRequirement already satisfied, skipping upgrade: azure-graphrbac<1.0.0,>=0.40.0 in /anaconda/envs/azureml_py38/lib/python3.8/site-packages (from azureml-core->azureml-fsspec) (0.61.1)\nRequirement already satisfied, skipping upgrade: azure-mgmt-storage<21.0.0,>=16.0.0 in /anaconda/envs/azureml_py38/lib/python3.8/site-packages (from azureml-core->azureml-fsspec) (20.1.0)\nRequirement already satisfied, skipping upgrade: packaging<22.0,>=20.0 in /anaconda/envs/azureml_py38/lib/python3.8/site-packages (from azureml-core->azureml-fsspec) (21.3)\nRequirement already satisfied, skipping upgrade: argcomplete<3 in /anaconda/envs/azureml_py38/lib/python3.8/site-packages (from azureml-core->azureml-fsspec) (2.0.0)\nRequirement already satisfied, skipping upgrade: ndg-httpsclient<=0.5.1 in /anaconda/envs/azureml_py38/lib/python3.8/site-packages (from azureml-core->azureml-fsspec) (0.5.1)\nRequirement already satisfied, skipping upgrade: azure-mgmt-keyvault<11.0.0,>=0.40.0 in /anaconda/envs/azureml_py38/lib/python3.8/site-packages (from azureml-core->azureml-fsspec) (10.1.0)\nRequirement already satisfied, skipping upgrade: jsonpickle<3.0.0 in /anaconda/envs/azureml_py38/lib/python3.8/site-packages (from azureml-core->azureml-fsspec) (2.2.0)\nRequirement already satisfied, skipping upgrade: msrestazure<=0.6.4,>=0.4.33 in /anaconda/envs/azureml_py38/lib/python3.8/site-packages (from azureml-core->azureml-fsspec) (0.6.4)\nRequirement already satisfied, skipping upgrade: msal-extensions<=1.0.0,>=0.3.0 in /anaconda/envs/azureml_py38/lib/python3.8/site-packages (from azureml-core->azureml-fsspec) (0.3.1)\nRequirement already satisfied, skipping upgrade: msal<2.0.0,>=1.15.0 in /anaconda/envs/azureml_py38/lib/python3.8/site-packages (from azureml-core->azureml-fsspec) (1.20.0)\nRequirement already satisfied, skipping upgrade: azure-mgmt-resource<22.0.0,>=15.0.0 in /anaconda/envs/azureml_py38/lib/python3.8/site-packages (from azureml-core->azureml-fsspec) (21.2.1)\nRequirement already satisfied, skipping upgrade: pathspec<1.0.0 in /anaconda/envs/azureml_py38/lib/python3.8/site-packages (from azureml-core->azureml-fsspec) (0.10.1)\nRequirement already satisfied, skipping upgrade: docker<7.0.0 in /anaconda/envs/azureml_py38/lib/python3.8/site-packages (from azureml-core->azureml-fsspec) (6.0.0)\nRequirement already satisfied, skipping upgrade: backports.tempfile in /anaconda/envs/azureml_py38/lib/python3.8/site-packages (from azureml-core->azureml-fsspec) (1.0)\nRequirement already satisfied, skipping upgrade: cloudpickle<3.0.0,>=1.1.0 in /anaconda/envs/azureml_py38/lib/python3.8/site-packages (from azureml-dataprep<4.9.0a,>=4.8.0a->azureml-fsspec) (1.6.0)\nRequirement already satisfied, skipping upgrade: azure-identity==1.7.0 in /anaconda/envs/azureml_py38/lib/python3.8/site-packages (from azureml-dataprep<4.9.0a,>=4.8.0a->azureml-fsspec) (1.7.0)\nRequirement already satisfied, skipping upgrade: azureml-dataprep-rslex~=2.15.0dev0 in /anaconda/envs/azureml_py38/lib/python3.8/site-packages (from azureml-dataprep<4.9.0a,>=4.8.0a->azureml-fsspec) (2.15.1)\nRequirement already satisfied, skipping upgrade: azureml-dataprep-native<39.0.0,>=38.0.0 in /anaconda/envs/azureml_py38/lib/python3.8/site-packages (from azureml-dataprep<4.9.0a,>=4.8.0a->azureml-fsspec) (38.0.0)\nRequirement already satisfied, skipping upgrade: dotnetcore2<4.0.0,>=3.0.0 in /anaconda/envs/azureml_py38/lib/python3.8/site-packages (from azureml-dataprep<4.9.0a,>=4.8.0a->azureml-fsspec) (3.1.23)\nRequirement already satisfied, skipping upgrade: cffi>=1.12 in /anaconda/envs/azureml_py38/lib/python3.8/site-packages (from cryptography!=1.9,!=2.0.*,!=2.1.*,!=2.2.*,<41->mltable) (1.15.1)\nRequirement already satisfied, skipping upgrade: six>=1.5 in /anaconda/envs/azureml_py38/lib/python3.8/site-packages (from python-dateutil<3.0.0,>=2.7.3->mltable) (1.16.0)\nRequirement already satisfied, skipping upgrade: typing-extensions>=4.0.1 in /anaconda/envs/azureml_py38/lib/python3.8/site-packages (from azure-core!=1.22.0,<2.0.0,>=1.8.0->mltable) (4.4.0)\nRequirement already satisfied, skipping upgrade: attrs>=17.4.0 in /anaconda/envs/azureml_py38/lib/python3.8/site-packages (from jsonschema<5.0.0,>=4.0.0->mltable) (22.1.0)\nRequirement already satisfied, skipping upgrade: pyrsistent!=0.17.0,!=0.17.1,!=0.17.2,>=0.14.0 in /anaconda/envs/azureml_py38/lib/python3.8/site-packages (from jsonschema<5.0.0,>=4.0.0->mltable) (0.18.1)\nRequirement already satisfied, skipping upgrade: pkgutil-resolve-name>=1.3.10; python_version < \"3.9\" in /anaconda/envs/azureml_py38/lib/python3.8/site-packages (from jsonschema<5.0.0,>=4.0.0->mltable) (1.3.10)\nRequirement already satisfied, skipping upgrade: importlib-resources>=1.4.0; python_version < \"3.9\" in /anaconda/envs/azureml_py38/lib/python3.8/site-packages (from jsonschema<5.0.0,>=4.0.0->mltable) (5.10.0)\nRequirement already satisfied, skipping upgrade: isodate>=0.6.0 in /anaconda/envs/azureml_py38/lib/python3.8/site-packages (from msrest>=0.6.18->mltable) (0.6.1)\nRequirement already satisfied, skipping upgrade: certifi>=2017.4.17 in /anaconda/envs/azureml_py38/lib/python3.8/site-packages (from msrest>=0.6.18->mltable) (2022.9.24)\nRequirement already satisfied, skipping upgrade: requests-oauthlib>=0.5.0 in /anaconda/envs/azureml_py38/lib/python3.8/site-packages (from msrest>=0.6.18->mltable) (1.3.1)\nRequirement already satisfied, skipping upgrade: charset-normalizer<3,>=2 in /anaconda/envs/azureml_py38/lib/python3.8/site-packages (from requests[socks]<3.0.0,>=2.19.1->azureml-core->azureml-fsspec) (2.1.1)\nRequirement already satisfied, skipping upgrade: idna<4,>=2.5 in /anaconda/envs/azureml_py38/lib/python3.8/site-packages (from requests[socks]<3.0.0,>=2.19.1->azureml-core->azureml-fsspec) (3.4)\nRequirement already satisfied, skipping upgrade: PySocks!=1.5.7,>=1.5.6; extra == \"socks\" in /anaconda/envs/azureml_py38/lib/python3.8/site-packages (from requests[socks]<3.0.0,>=2.19.1->azureml-core->azureml-fsspec) (1.7.1)\nRequirement already satisfied, skipping upgrade: jeepney>=0.6 in /anaconda/envs/azureml_py38/lib/python3.8/site-packages (from SecretStorage<4.0.0->azureml-core->azureml-fsspec) (0.8.0)\nRequirement already satisfied, skipping upgrade: bcrypt>=3.1.3 in /anaconda/envs/azureml_py38/lib/python3.8/site-packages (from paramiko<3.0.0,>=2.0.8->azureml-core->azureml-fsspec) (4.0.1)\nRequirement already satisfied, skipping upgrade: pynacl>=1.0.1 in /anaconda/envs/azureml_py38/lib/python3.8/site-packages (from paramiko<3.0.0,>=2.0.8->azureml-core->azureml-fsspec) (1.5.0)\nRequirement already satisfied, skipping upgrade: tabulate in /anaconda/envs/azureml_py38/lib/python3.8/site-packages (from knack~=0.10.0->azureml-core->azureml-fsspec) (0.9.0)\nRequirement already satisfied, skipping upgrade: pygments in /anaconda/envs/azureml_py38/lib/python3.8/site-packages (from knack~=0.10.0->azureml-core->azureml-fsspec) (2.13.0)\nRequirement already satisfied, skipping upgrade: pyparsing!=3.0.5,>=2.0.2 in /anaconda/envs/azureml_py38/lib/python3.8/site-packages (from packaging<22.0,>=20.0->azureml-core->azureml-fsspec) (3.0.9)\nRequirement already satisfied, skipping upgrade: pyasn1>=0.1.1 in /anaconda/envs/azureml_py38/lib/python3.8/site-packages (from ndg-httpsclient<=0.5.1->azureml-core->azureml-fsspec) (0.4.8)\nRequirement already satisfied, skipping upgrade: portalocker<3,>=1.0; python_version >= \"3.5\" and platform_system != \"Windows\" in /anaconda/envs/azureml_py38/lib/python3.8/site-packages (from msal-extensions<=1.0.0,>=0.3.0->azureml-core->azureml-fsspec) (2.6.0)\nRequirement already satisfied, skipping upgrade: websocket-client>=0.32.0 in /anaconda/envs/azureml_py38/lib/python3.8/site-packages (from docker<7.0.0->azureml-core->azureml-fsspec) (1.4.1)\nRequirement already satisfied, skipping upgrade: backports.weakref in /anaconda/envs/azureml_py38/lib/python3.8/site-packages (from backports.tempfile->azureml-core->azureml-fsspec) (1.0.post1)\nRequirement already satisfied, skipping upgrade: distro>=1.2.0 in /anaconda/envs/azureml_py38/lib/python3.8/site-packages (from dotnetcore2<4.0.0,>=3.0.0->azureml-dataprep<4.9.0a,>=4.8.0a->azureml-fsspec) (1.8.0)\nRequirement already satisfied, skipping upgrade: pycparser in /anaconda/envs/azureml_py38/lib/python3.8/site-packages (from cffi>=1.12->cryptography!=1.9,!=2.0.*,!=2.1.*,!=2.2.*,<41->mltable) (2.21)\nRequirement already satisfied, skipping upgrade: zipp>=3.1.0; python_version < \"3.10\" in /anaconda/envs/azureml_py38/lib/python3.8/site-packages (from importlib-resources>=1.4.0; python_version < \"3.9\"->jsonschema<5.0.0,>=4.0.0->mltable) (3.9.0)\nRequirement already satisfied, skipping upgrade: oauthlib>=3.0.0 in /anaconda/envs/azureml_py38/lib/python3.8/site-packages (from requests-oauthlib>=0.5.0->msrest>=0.6.18->mltable) (3.2.2)\nInstalling collected packages: azureml-fsspec, mltable\nSuccessfully installed azureml-fsspec-0.1.0b3 mltable-1.0.0\nCollecting tensorflow==2.11\n  Using cached tensorflow-2.11.0-cp38-cp38-manylinux_2_17_x86_64.manylinux2014_x86_64.whl (588.3 MB)\nRequirement already satisfied: setuptools in /anaconda/envs/azureml_py38/lib/python3.8/site-packages (from tensorflow==2.11) (49.6.0)\nRequirement already satisfied: termcolor>=1.1.0 in /anaconda/envs/azureml_py38/lib/python3.8/site-packages (from tensorflow==2.11) (2.0.1)\nRequirement already satisfied: opt-einsum>=2.3.2 in /anaconda/envs/azureml_py38/lib/python3.8/site-packages (from tensorflow==2.11) (3.3.0)\nRequirement already satisfied: astunparse>=1.6.0 in /anaconda/envs/azureml_py38/lib/python3.8/site-packages (from tensorflow==2.11) (1.6.3)\nRequirement already satisfied: flatbuffers>=2.0 in /anaconda/envs/azureml_py38/lib/python3.8/site-packages (from tensorflow==2.11) (22.9.24)\nRequirement already satisfied: absl-py>=1.0.0 in /anaconda/envs/azureml_py38/lib/python3.8/site-packages (from tensorflow==2.11) (1.3.0)\nRequirement already satisfied: gast<=0.4.0,>=0.2.1 in /anaconda/envs/azureml_py38/lib/python3.8/site-packages (from tensorflow==2.11) (0.3.3)\nRequirement already satisfied: tensorflow-estimator<2.12,>=2.11.0 in /anaconda/envs/azureml_py38/lib/python3.8/site-packages (from tensorflow==2.11) (2.11.0)\nCollecting keras<2.12,>=2.11.0\n  Using cached keras-2.11.0-py2.py3-none-any.whl (1.7 MB)\nRequirement already satisfied: packaging in /anaconda/envs/azureml_py38/lib/python3.8/site-packages (from tensorflow==2.11) (21.3)\nRequirement already satisfied: six>=1.12.0 in /anaconda/envs/azureml_py38/lib/python3.8/site-packages (from tensorflow==2.11) (1.16.0)\nRequirement already satisfied: tensorflow-io-gcs-filesystem>=0.23.1; platform_machine != \"arm64\" or platform_system != \"Darwin\" in /anaconda/envs/azureml_py38/lib/python3.8/site-packages (from tensorflow==2.11) (0.29.0)\nRequirement already satisfied: tensorboard<2.12,>=2.11 in /anaconda/envs/azureml_py38/lib/python3.8/site-packages (from tensorflow==2.11) (2.11.0)\nRequirement already satisfied: typing-extensions>=3.6.6 in /anaconda/envs/azureml_py38/lib/python3.8/site-packages (from tensorflow==2.11) (4.4.0)\nRequirement already satisfied: protobuf<3.20,>=3.9.2 in /anaconda/envs/azureml_py38/lib/python3.8/site-packages (from tensorflow==2.11) (3.19.6)\nRequirement already satisfied: grpcio<2.0,>=1.24.3 in /anaconda/envs/azureml_py38/lib/python3.8/site-packages (from tensorflow==2.11) (1.50.0)\nRequirement already satisfied: h5py>=2.9.0 in /anaconda/envs/azureml_py38/lib/python3.8/site-packages (from tensorflow==2.11) (3.7.0)\nRequirement already satisfied: google-pasta>=0.1.1 in /anaconda/envs/azureml_py38/lib/python3.8/site-packages (from tensorflow==2.11) (0.2.0)\nRequirement already satisfied: numpy>=1.20 in /anaconda/envs/azureml_py38/lib/python3.8/site-packages (from tensorflow==2.11) (1.21.6)\nRequirement already satisfied: wrapt>=1.11.0 in /anaconda/envs/azureml_py38/lib/python3.8/site-packages (from tensorflow==2.11) (1.12.1)\nRequirement already satisfied: libclang>=13.0.0 in /anaconda/envs/azureml_py38/lib/python3.8/site-packages (from tensorflow==2.11) (14.0.6)\nRequirement already satisfied: wheel<1.0,>=0.23.0 in /anaconda/envs/azureml_py38/lib/python3.8/site-packages (from astunparse>=1.6.0->tensorflow==2.11) (0.37.1)\nRequirement already satisfied: pyparsing!=3.0.5,>=2.0.2 in /anaconda/envs/azureml_py38/lib/python3.8/site-packages (from packaging->tensorflow==2.11) (3.0.9)\nRequirement already satisfied: google-auth-oauthlib<0.5,>=0.4.1 in /anaconda/envs/azureml_py38/lib/python3.8/site-packages (from tensorboard<2.12,>=2.11->tensorflow==2.11) (0.4.6)\nRequirement already satisfied: tensorboard-plugin-wit>=1.6.0 in /anaconda/envs/azureml_py38/lib/python3.8/site-packages (from tensorboard<2.12,>=2.11->tensorflow==2.11) (1.8.1)\nRequirement already satisfied: google-auth<3,>=1.6.3 in /anaconda/envs/azureml_py38/lib/python3.8/site-packages (from tensorboard<2.12,>=2.11->tensorflow==2.11) (2.13.0)\nRequirement already satisfied: markdown>=2.6.8 in /anaconda/envs/azureml_py38/lib/python3.8/site-packages (from tensorboard<2.12,>=2.11->tensorflow==2.11) (3.4.1)\nRequirement already satisfied: requests<3,>=2.21.0 in /anaconda/envs/azureml_py38/lib/python3.8/site-packages (from tensorboard<2.12,>=2.11->tensorflow==2.11) (2.28.1)\nRequirement already satisfied: tensorboard-data-server<0.7.0,>=0.6.0 in /anaconda/envs/azureml_py38/lib/python3.8/site-packages (from tensorboard<2.12,>=2.11->tensorflow==2.11) (0.6.1)\nRequirement already satisfied: werkzeug>=1.0.1 in /anaconda/envs/azureml_py38/lib/python3.8/site-packages (from tensorboard<2.12,>=2.11->tensorflow==2.11) (2.2.2)\nRequirement already satisfied: requests-oauthlib>=0.7.0 in /anaconda/envs/azureml_py38/lib/python3.8/site-packages (from google-auth-oauthlib<0.5,>=0.4.1->tensorboard<2.12,>=2.11->tensorflow==2.11) (1.3.1)\nRequirement already satisfied: pyasn1-modules>=0.2.1 in /anaconda/envs/azureml_py38/lib/python3.8/site-packages (from google-auth<3,>=1.6.3->tensorboard<2.12,>=2.11->tensorflow==2.11) (0.2.8)\nRequirement already satisfied: cachetools<6.0,>=2.0.0 in /anaconda/envs/azureml_py38/lib/python3.8/site-packages (from google-auth<3,>=1.6.3->tensorboard<2.12,>=2.11->tensorflow==2.11) (5.2.0)\nRequirement already satisfied: rsa<5,>=3.1.4; python_version >= \"3.6\" in /anaconda/envs/azureml_py38/lib/python3.8/site-packages (from google-auth<3,>=1.6.3->tensorboard<2.12,>=2.11->tensorflow==2.11) (4.9)\nRequirement already satisfied: importlib-metadata>=4.4; python_version < \"3.10\" in /anaconda/envs/azureml_py38/lib/python3.8/site-packages (from markdown>=2.6.8->tensorboard<2.12,>=2.11->tensorflow==2.11) (4.13.0)\nRequirement already satisfied: urllib3<1.27,>=1.21.1 in /anaconda/envs/azureml_py38/lib/python3.8/site-packages (from requests<3,>=2.21.0->tensorboard<2.12,>=2.11->tensorflow==2.11) (1.26.12)\nRequirement already satisfied: certifi>=2017.4.17 in /anaconda/envs/azureml_py38/lib/python3.8/site-packages (from requests<3,>=2.21.0->tensorboard<2.12,>=2.11->tensorflow==2.11) (2022.9.24)\nRequirement already satisfied: idna<4,>=2.5 in /anaconda/envs/azureml_py38/lib/python3.8/site-packages (from requests<3,>=2.21.0->tensorboard<2.12,>=2.11->tensorflow==2.11) (3.4)\nRequirement already satisfied: charset-normalizer<3,>=2 in /anaconda/envs/azureml_py38/lib/python3.8/site-packages (from requests<3,>=2.21.0->tensorboard<2.12,>=2.11->tensorflow==2.11) (2.1.1)\nRequirement already satisfied: MarkupSafe>=2.1.1 in /anaconda/envs/azureml_py38/lib/python3.8/site-packages (from werkzeug>=1.0.1->tensorboard<2.12,>=2.11->tensorflow==2.11) (2.1.1)\nRequirement already satisfied: oauthlib>=3.0.0 in /anaconda/envs/azureml_py38/lib/python3.8/site-packages (from requests-oauthlib>=0.7.0->google-auth-oauthlib<0.5,>=0.4.1->tensorboard<2.12,>=2.11->tensorflow==2.11) (3.2.2)\nRequirement already satisfied: pyasn1<0.5.0,>=0.4.6 in /anaconda/envs/azureml_py38/lib/python3.8/site-packages (from pyasn1-modules>=0.2.1->google-auth<3,>=1.6.3->tensorboard<2.12,>=2.11->tensorflow==2.11) (0.4.8)\nRequirement already satisfied: zipp>=0.5 in /anaconda/envs/azureml_py38/lib/python3.8/site-packages (from importlib-metadata>=4.4; python_version < \"3.10\"->markdown>=2.6.8->tensorboard<2.12,>=2.11->tensorflow==2.11) (3.9.0)\n\u001b[31mERROR: autokeras 1.0.16 has requirement tensorflow<=2.5.0,>=2.3.0, but you'll have tensorflow 2.11.0 which is incompatible.\u001b[0m\nInstalling collected packages: keras, tensorflow\nSuccessfully installed keras-2.11.0 tensorflow-2.11.0\nRequirement already satisfied: keras==2.11 in /anaconda/envs/azureml_py38/lib/python3.8/site-packages (2.11.0)\n"
                }
            ],
            "execution_count": 1
        },
        {
            "cell_type": "markdown",
            "source": [
                "## Import libraries"
            ],
            "metadata": {
                "nteract": {
                    "transient": {
                        "deleting": false
                    }
                },
                "azdata_cell_guid": "1568d545-10cd-4e7f-9a21-828dca2d3b7b"
            }
        },
        {
            "cell_type": "code",
            "source": [
                "# Import libraries\n",
                "import pandas as pd\n",
                "import numpy as np\n",
                "import pickle\n",
                "import re\n",
                "import matplotlib.pyplot as plt\n",
                "import seaborn as sns\n",
                "import matplotlib.style as style\n",
                "import ast\n",
                "from string import punctuation\n",
                "from gensim.models import KeyedVectors\n",
                "from mlxtend.plotting import plot_confusion_matrix\n",
                "\n",
                "# Azure\n",
                "from azure.storage.blob import BlobServiceClient\n",
                "from azureml.fsspec import AzureMachineLearningFileSystem\n",
                "\n",
                "# Natural Language Toolkit\n",
                "import nltk\n",
                "from nltk.corpus import stopwords\n",
                "from nltk.stem import WordNetLemmatizer \n",
                "from nltk.tokenize import word_tokenize \n",
                "\n",
                "# Sklearn\n",
                "from sklearn.metrics import hamming_loss\n",
                "from sklearn.metrics import accuracy_score\n",
                "from sklearn.metrics import confusion_matrix\n",
                "from sklearn.metrics import precision_score\n",
                "from sklearn.metrics import recall_score\n",
                "from sklearn.metrics import f1_score\n",
                "from sklearn.metrics import roc_auc_score\n",
                "from sklearn.preprocessing import MultiLabelBinarizer\n",
                "from sklearn.metrics import confusion_matrix\n",
                "\n",
                "# Keras\n",
                "from keras.preprocessing.text import Tokenizer\n",
                "from keras.models import Model, load_model\n",
                "from keras.layers import Embedding, LSTM, Dropout, Dense, Input, Bidirectional, Flatten, Conv2D, MaxPooling2D, concatenate, Conv1D, MaxPooling1D\n",
                "import keras.backend as K\n",
                "from keras.optimizers import Adam, RMSprop\n",
                "\n",
                "# Pytorch\n",
                "import torch \n",
                "import torch.nn as nn\n",
                "import torch.nn.functional as F\n",
                "from torch.utils.data import TensorDataset, DataLoader\n",
                "\n",
                "# Tensorflow\n",
                "from tensorflow.keras.preprocessing.sequence import pad_sequences"
            ],
            "metadata": {
                "colab": {
                    "base_uri": "https://localhost:8080/",
                    "height": 176
                },
                "colab_type": "code",
                "id": "JGJeqA70cJfw",
                "outputId": "d60b6dda-16e8-46a5-e572-e025c7643580",
                "gather": {
                    "logged": 1671671857872
                },
                "azdata_cell_guid": "d17b5f28-7e09-4cd7-b7d3-f5a57f485bd6",
                "language": "python"
            },
            "outputs": [],
            "execution_count": 28
        },
        {
            "cell_type": "markdown",
            "source": [
                "## Download packages"
            ],
            "metadata": {
                "nteract": {
                    "transient": {
                        "deleting": false
                    }
                },
                "azdata_cell_guid": "05dcc171-f3fa-41dc-a891-a6aa098036f5"
            }
        },
        {
            "cell_type": "code",
            "source": [
                "# Download natural language toolkit packages\n",
                "nltk.download('stopwords')\n",
                "nltk.download('punkt')\n",
                "nltk.download('wordnet')\n",
                "nltk.download('omw-1.4')"
            ],
            "metadata": {
                "colab": {},
                "colab_type": "code",
                "id": "HU4HlgcRREAQ",
                "gather": {
                    "logged": 1671669497858
                },
                "azdata_cell_guid": "c64e5904-af79-4a49-8a94-90bf87d25536",
                "language": "python"
            },
            "outputs": [
                {
                    "output_type": "stream",
                    "name": "stderr",
                    "text": "[nltk_data] Downloading package stopwords to\n[nltk_data]     /home/azureuser/nltk_data...\n[nltk_data]   Package stopwords is already up-to-date!\n[nltk_data] Downloading package punkt to /home/azureuser/nltk_data...\n[nltk_data]   Package punkt is already up-to-date!\n[nltk_data] Downloading package wordnet to\n[nltk_data]     /home/azureuser/nltk_data...\n[nltk_data]   Package wordnet is already up-to-date!\n[nltk_data] Downloading package omw-1.4 to\n[nltk_data]     /home/azureuser/nltk_data...\n[nltk_data]   Package omw-1.4 is already up-to-date!\n"
                },
                {
                    "output_type": "execute_result",
                    "execution_count": 3,
                    "data": {
                        "text/plain": "True"
                    },
                    "metadata": {}
                }
            ],
            "execution_count": 3
        },
        {
            "cell_type": "markdown",
            "source": [
                "## Set variables"
            ],
            "metadata": {
                "nteract": {
                    "transient": {
                        "deleting": false
                    }
                },
                "azdata_cell_guid": "e82455d6-7c2b-4657-91bd-1945f2b5526b"
            }
        },
        {
            "cell_type": "code",
            "source": [
                "# Azure Blob Container info\n",
                "storage_account_url = 'https://umbcmlstorage.blob.core.windows.net/'\n",
                "storage_account_key = 'Cj2gFlo6CTUhwnQIXEuun0i0NX0Yn1uid3AGrNJ62PKZ6rGXpTUEovv+EcN2jX0sQwxzFvpwGbFZ+AStJJdFuQ=='\n",
                "blob_service_client_instance = BlobServiceClient(account_url = storage_account_url, credential = storage_account_key)\n",
                "\n",
                "# AzureML Datastore details\n",
                "subscription = '9e456110-c6ac-44a7-81cf-5b26a6935c02'\n",
                "resource_group = 'umbc-machine-learning'\n",
                "workspace = 'umbc-ml-workspace'\n",
                "datastore_name = 'azuremldatastore'\n",
                "datastore_path = f'azureml://subscriptions/{subscription}/resourcegroups/{resource_group}/workspaces/{workspace}/datastores/{datastore_name}'\n"
            ],
            "metadata": {
                "jupyter": {
                    "source_hidden": false,
                    "outputs_hidden": false
                },
                "nteract": {
                    "transient": {
                        "deleting": false
                    }
                },
                "gather": {
                    "logged": 1671669515796
                },
                "azdata_cell_guid": "62553d2b-45fd-49e2-8be0-3af1cbffbb39",
                "language": "python"
            },
            "outputs": [],
            "execution_count": 4
        },
        {
            "cell_type": "markdown",
            "source": [
                "## Set style"
            ],
            "metadata": {
                "nteract": {
                    "transient": {
                        "deleting": false
                    }
                },
                "azdata_cell_guid": "0673e8db-d133-4626-9997-ed634795ba0a"
            }
        },
        {
            "cell_type": "code",
            "source": [
                "# Style\n",
                "style.use('seaborn-poster')\n",
                "style.use('ggplot')"
            ],
            "metadata": {
                "colab": {},
                "colab_type": "code",
                "id": "tD5m-Y1_cQfS",
                "gather": {
                    "logged": 1671669519181
                },
                "azdata_cell_guid": "edb85037-7c9b-419c-8958-150c38edcf07",
                "language": "python"
            },
            "outputs": [],
            "execution_count": 5
        },
        {
            "cell_type": "markdown",
            "source": [
                "# Step 2: Get saved metadata"
            ],
            "metadata": {
                "nteract": {
                    "transient": {
                        "deleting": false
                    }
                },
                "azdata_cell_guid": "60fe4426-e648-47ad-aa7c-db5b2a0b3e48"
            }
        },
        {
            "cell_type": "markdown",
            "source": [
                "## Read from numpy arrays saved"
            ],
            "metadata": {
                "nteract": {
                    "transient": {
                        "deleting": false
                    }
                },
                "azdata_cell_guid": "be3d13f0-3a73-4943-a172-176a649b4b97"
            }
        },
        {
            "cell_type": "code",
            "source": [
                "# Read from numpy arrays saved\n",
                "X_img_val = np.load('val_np_imgs.npy')      # validation images\n",
                "X_img_test = np.load('test_np_imgs.npy')    # test images\n",
                "X_img_train = np.load('train_np_imgs.npy')  # train images"
            ],
            "metadata": {
                "jupyter": {
                    "source_hidden": false,
                    "outputs_hidden": false
                },
                "nteract": {
                    "transient": {
                        "deleting": false
                    }
                },
                "gather": {
                    "logged": 1671669975340
                },
                "azdata_cell_guid": "085f476c-4d99-4203-b698-d1bb4a49572d",
                "language": "python"
            },
            "outputs": [],
            "execution_count": 13
        },
        {
            "cell_type": "markdown",
            "source": [
                "## Read train, test, validation data"
            ],
            "metadata": {
                "nteract": {
                    "transient": {
                        "deleting": false
                    }
                },
                "azdata_cell_guid": "6509a688-99fc-432c-a226-5a0291d87f6d"
            }
        },
        {
            "cell_type": "code",
            "source": [
                "# Read train, test,validation data\n",
                "dataset = pd.read_csv(f'{datastore_path}/paths/dataset_mod.csv')    # all dataset\n",
                "val = pd.read_csv(f'{datastore_path}/paths/val_data.csv')           # validation dataset\n",
                "test = pd.read_csv(f'{datastore_path}/paths/test_data.csv')         # test dataset\n",
                "train = pd.read_csv(f'{datastore_path}/paths/train_data.csv')       # train dataset\n",
                "\n",
                "# Check dataframe\n",
                "dataset.head()"
            ],
            "metadata": {
                "jupyter": {
                    "source_hidden": false,
                    "outputs_hidden": false
                },
                "nteract": {
                    "transient": {
                        "deleting": false
                    }
                },
                "gather": {
                    "logged": 1671669978845
                },
                "azdata_cell_guid": "7303db54-39e0-46f1-86bc-dbbeec43e035",
                "language": "python"
            },
            "outputs": [
                {
                    "output_type": "execute_result",
                    "execution_count": 14,
                    "data": {
                        "text/plain": "   Unnamed: 0               original_title  \\\n0           0                    Toy Story   \n1           1                      Jumanji   \n2           2             Grumpier Old Men   \n3           3            Waiting to Exhale   \n4           4  Father of the Bride Part II   \n\n                                            overview     id  \\\n0  Led by Woody, Andy's toys live happily in his ...    862   \n1  When siblings Judy and Peter discover an encha...   8844   \n2  A family wedding reignites the ancient feud be...  15602   \n3  Cheated on, mistreated and stepped on, the wom...  31357   \n4  Just when George Banks has recovered from his ...  11862   \n\n                                              genres  \\\n0  [{'id': 16, 'name': 'Animation'}, {'id': 35, '...   \n1  [{'id': 12, 'name': 'Adventure'}, {'id': 14, '...   \n2  [{'id': 10749, 'name': 'Romance'}, {'id': 35, ...   \n3  [{'id': 35, 'name': 'Comedy'}, {'id': 18, 'nam...   \n4                     [{'id': 35, 'name': 'Comedy'}]   \n\n                           genre_list  \\\n0   ['Animation', 'Comedy', 'Family']   \n1  ['Adventure', 'Fantasy', 'Family']   \n2               ['Romance', 'Comedy']   \n3      ['Comedy', 'Drama', 'Romance']   \n4                          ['Comedy']   \n\n                                        poster_paths  \n0  https://umbcmlstorage.blob.core.windows.net/im...  \n1  https://umbcmlstorage.blob.core.windows.net/im...  \n2  https://umbcmlstorage.blob.core.windows.net/im...  \n3  https://umbcmlstorage.blob.core.windows.net/im...  \n4  https://umbcmlstorage.blob.core.windows.net/im...  ",
                        "text/html": "<div>\n<style scoped>\n    .dataframe tbody tr th:only-of-type {\n        vertical-align: middle;\n    }\n\n    .dataframe tbody tr th {\n        vertical-align: top;\n    }\n\n    .dataframe thead th {\n        text-align: right;\n    }\n</style>\n<table border=\"1\" class=\"dataframe\">\n  <thead>\n    <tr style=\"text-align: right;\">\n      <th></th>\n      <th>Unnamed: 0</th>\n      <th>original_title</th>\n      <th>overview</th>\n      <th>id</th>\n      <th>genres</th>\n      <th>genre_list</th>\n      <th>poster_paths</th>\n    </tr>\n  </thead>\n  <tbody>\n    <tr>\n      <th>0</th>\n      <td>0</td>\n      <td>Toy Story</td>\n      <td>Led by Woody, Andy's toys live happily in his ...</td>\n      <td>862</td>\n      <td>[{'id': 16, 'name': 'Animation'}, {'id': 35, '...</td>\n      <td>['Animation', 'Comedy', 'Family']</td>\n      <td>https://umbcmlstorage.blob.core.windows.net/im...</td>\n    </tr>\n    <tr>\n      <th>1</th>\n      <td>1</td>\n      <td>Jumanji</td>\n      <td>When siblings Judy and Peter discover an encha...</td>\n      <td>8844</td>\n      <td>[{'id': 12, 'name': 'Adventure'}, {'id': 14, '...</td>\n      <td>['Adventure', 'Fantasy', 'Family']</td>\n      <td>https://umbcmlstorage.blob.core.windows.net/im...</td>\n    </tr>\n    <tr>\n      <th>2</th>\n      <td>2</td>\n      <td>Grumpier Old Men</td>\n      <td>A family wedding reignites the ancient feud be...</td>\n      <td>15602</td>\n      <td>[{'id': 10749, 'name': 'Romance'}, {'id': 35, ...</td>\n      <td>['Romance', 'Comedy']</td>\n      <td>https://umbcmlstorage.blob.core.windows.net/im...</td>\n    </tr>\n    <tr>\n      <th>3</th>\n      <td>3</td>\n      <td>Waiting to Exhale</td>\n      <td>Cheated on, mistreated and stepped on, the wom...</td>\n      <td>31357</td>\n      <td>[{'id': 35, 'name': 'Comedy'}, {'id': 18, 'nam...</td>\n      <td>['Comedy', 'Drama', 'Romance']</td>\n      <td>https://umbcmlstorage.blob.core.windows.net/im...</td>\n    </tr>\n    <tr>\n      <th>4</th>\n      <td>4</td>\n      <td>Father of the Bride Part II</td>\n      <td>Just when George Banks has recovered from his ...</td>\n      <td>11862</td>\n      <td>[{'id': 35, 'name': 'Comedy'}]</td>\n      <td>['Comedy']</td>\n      <td>https://umbcmlstorage.blob.core.windows.net/im...</td>\n    </tr>\n  </tbody>\n</table>\n</div>"
                    },
                    "metadata": {}
                }
            ],
            "execution_count": 14
        },
        {
            "cell_type": "markdown",
            "source": [
                "## Convert genre list column to list"
            ],
            "metadata": {
                "nteract": {
                    "transient": {
                        "deleting": false
                    }
                },
                "azdata_cell_guid": "95560fdc-933d-4574-afe9-8376af7b7d53"
            }
        },
        {
            "cell_type": "code",
            "source": [
                "# Converting each cell of the genre list column into a list\n",
                "dataset['genre_list'] = dataset['genre_list'].apply(lambda x: ast.literal_eval(x))\n",
                "train['genre_list'] = train['genre_list'].apply(lambda x: ast.literal_eval(x))\n",
                "test['genre_list'] = test['genre_list'].apply(lambda x: ast.literal_eval(x))\n",
                "val['genre_list'] = val['genre_list'].apply(lambda x: ast.literal_eval(x))\n",
                "\n",
                "# Check dataframe\n",
                "dataset.head()"
            ],
            "metadata": {
                "colab": {},
                "colab_type": "code",
                "id": "JG2uJnbjdKYB",
                "gather": {
                    "logged": 1671669983242
                },
                "azdata_cell_guid": "9ba3e4b4-ce7f-4259-a940-a9d7f6e78e69",
                "language": "python"
            },
            "outputs": [
                {
                    "output_type": "execute_result",
                    "execution_count": 15,
                    "data": {
                        "text/plain": "   Unnamed: 0               original_title  \\\n0           0                    Toy Story   \n1           1                      Jumanji   \n2           2             Grumpier Old Men   \n3           3            Waiting to Exhale   \n4           4  Father of the Bride Part II   \n\n                                            overview     id  \\\n0  Led by Woody, Andy's toys live happily in his ...    862   \n1  When siblings Judy and Peter discover an encha...   8844   \n2  A family wedding reignites the ancient feud be...  15602   \n3  Cheated on, mistreated and stepped on, the wom...  31357   \n4  Just when George Banks has recovered from his ...  11862   \n\n                                              genres  \\\n0  [{'id': 16, 'name': 'Animation'}, {'id': 35, '...   \n1  [{'id': 12, 'name': 'Adventure'}, {'id': 14, '...   \n2  [{'id': 10749, 'name': 'Romance'}, {'id': 35, ...   \n3  [{'id': 35, 'name': 'Comedy'}, {'id': 18, 'nam...   \n4                     [{'id': 35, 'name': 'Comedy'}]   \n\n                     genre_list  \\\n0   [Animation, Comedy, Family]   \n1  [Adventure, Fantasy, Family]   \n2             [Romance, Comedy]   \n3      [Comedy, Drama, Romance]   \n4                      [Comedy]   \n\n                                        poster_paths  \n0  https://umbcmlstorage.blob.core.windows.net/im...  \n1  https://umbcmlstorage.blob.core.windows.net/im...  \n2  https://umbcmlstorage.blob.core.windows.net/im...  \n3  https://umbcmlstorage.blob.core.windows.net/im...  \n4  https://umbcmlstorage.blob.core.windows.net/im...  ",
                        "text/html": "<div>\n<style scoped>\n    .dataframe tbody tr th:only-of-type {\n        vertical-align: middle;\n    }\n\n    .dataframe tbody tr th {\n        vertical-align: top;\n    }\n\n    .dataframe thead th {\n        text-align: right;\n    }\n</style>\n<table border=\"1\" class=\"dataframe\">\n  <thead>\n    <tr style=\"text-align: right;\">\n      <th></th>\n      <th>Unnamed: 0</th>\n      <th>original_title</th>\n      <th>overview</th>\n      <th>id</th>\n      <th>genres</th>\n      <th>genre_list</th>\n      <th>poster_paths</th>\n    </tr>\n  </thead>\n  <tbody>\n    <tr>\n      <th>0</th>\n      <td>0</td>\n      <td>Toy Story</td>\n      <td>Led by Woody, Andy's toys live happily in his ...</td>\n      <td>862</td>\n      <td>[{'id': 16, 'name': 'Animation'}, {'id': 35, '...</td>\n      <td>[Animation, Comedy, Family]</td>\n      <td>https://umbcmlstorage.blob.core.windows.net/im...</td>\n    </tr>\n    <tr>\n      <th>1</th>\n      <td>1</td>\n      <td>Jumanji</td>\n      <td>When siblings Judy and Peter discover an encha...</td>\n      <td>8844</td>\n      <td>[{'id': 12, 'name': 'Adventure'}, {'id': 14, '...</td>\n      <td>[Adventure, Fantasy, Family]</td>\n      <td>https://umbcmlstorage.blob.core.windows.net/im...</td>\n    </tr>\n    <tr>\n      <th>2</th>\n      <td>2</td>\n      <td>Grumpier Old Men</td>\n      <td>A family wedding reignites the ancient feud be...</td>\n      <td>15602</td>\n      <td>[{'id': 10749, 'name': 'Romance'}, {'id': 35, ...</td>\n      <td>[Romance, Comedy]</td>\n      <td>https://umbcmlstorage.blob.core.windows.net/im...</td>\n    </tr>\n    <tr>\n      <th>3</th>\n      <td>3</td>\n      <td>Waiting to Exhale</td>\n      <td>Cheated on, mistreated and stepped on, the wom...</td>\n      <td>31357</td>\n      <td>[{'id': 35, 'name': 'Comedy'}, {'id': 18, 'nam...</td>\n      <td>[Comedy, Drama, Romance]</td>\n      <td>https://umbcmlstorage.blob.core.windows.net/im...</td>\n    </tr>\n    <tr>\n      <th>4</th>\n      <td>4</td>\n      <td>Father of the Bride Part II</td>\n      <td>Just when George Banks has recovered from his ...</td>\n      <td>11862</td>\n      <td>[{'id': 35, 'name': 'Comedy'}]</td>\n      <td>[Comedy]</td>\n      <td>https://umbcmlstorage.blob.core.windows.net/im...</td>\n    </tr>\n  </tbody>\n</table>\n</div>"
                    },
                    "metadata": {}
                }
            ],
            "execution_count": 15
        },
        {
            "cell_type": "markdown",
            "source": [
                "# Step 3: Label generation"
            ],
            "metadata": {
                "colab_type": "text",
                "id": "zENvYnx1HwOO",
                "azdata_cell_guid": "fcfc5d8d-421f-4223-859d-0d11fceb0c10"
            }
        },
        {
            "cell_type": "markdown",
            "source": [
                "## One-hot encoding\n",
                "Creating one-hot encoded vectors using the Mutltilabel Binarizer from scikit-learn. There are a total of 18 classes and each label is associated with an array index"
            ],
            "metadata": {
                "nteract": {
                    "transient": {
                        "deleting": false
                    }
                },
                "azdata_cell_guid": "5133d4fa-39d1-419f-bc74-508c5daa0625"
            }
        },
        {
            "cell_type": "code",
            "source": [
                "# Generate one-hot encoded vectors\n",
                "ml_bin = MultiLabelBinarizer()\n",
                "ml_bin.fit(dataset['genre_list'].tolist())\n",
                "ml_bin.classes_"
            ],
            "metadata": {
                "colab": {
                    "base_uri": "https://localhost:8080/",
                    "height": 87
                },
                "colab_type": "code",
                "id": "Zv8MluyscvD9",
                "outputId": "b1bad788-fd5c-43f1-db5c-c9794b0bb318",
                "gather": {
                    "logged": 1671670117475
                },
                "azdata_cell_guid": "a4ee3510-2c9b-4d7b-8682-ab9c4b40e35f",
                "language": "python"
            },
            "outputs": [
                {
                    "output_type": "execute_result",
                    "execution_count": 20,
                    "data": {
                        "text/plain": "array(['Action', 'Adventure', 'Animation', 'Comedy', 'Crime',\n       'Documentary', 'Drama', 'Family', 'Fantasy', 'History', 'Horror',\n       'Music', 'Mystery', 'Romance', 'Science Fiction', 'Thriller',\n       'War', 'Western'], dtype=object)"
                    },
                    "metadata": {}
                }
            ],
            "execution_count": 20
        },
        {
            "cell_type": "markdown",
            "source": [
                "## Transformed labels"
            ],
            "metadata": {
                "nteract": {
                    "transient": {
                        "deleting": false
                    }
                },
                "azdata_cell_guid": "b818fe49-cac3-404d-b425-15e5100f7230"
            }
        },
        {
            "cell_type": "code",
            "source": [
                "# Transformed labels\n",
                "trans_labels = ml_bin.fit_transform(dataset['genre_list'].tolist())  # all labels\n",
                "print(f'Dataset labels: {trans_labels.shape}')\n",
                "\n",
                "train_labels = ml_bin.transform(train['genre_list'].tolist())        # train labels\n",
                "print(f'Train labels: {train_labels.shape}')\n",
                "\n",
                "test_labels = ml_bin.transform(test['genre_list'].tolist())          # test labels\n",
                "print(f'Test labels: {test_labels.shape}')\n",
                "\n",
                "val_labels = ml_bin.transform(val['genre_list'].tolist())            # validation labels\n",
                "print(f'Validation labels: {val_labels.shape}')"
            ],
            "metadata": {
                "colab": {
                    "base_uri": "https://localhost:8080/",
                    "height": 35
                },
                "colab_type": "code",
                "id": "xbtFVzxEcyDA",
                "outputId": "ee37d94e-f17c-45b7-edf6-774bb98f57e5",
                "gather": {
                    "logged": 1671670278028
                },
                "azdata_cell_guid": "5117e6cb-87e3-41d3-a6fc-693b992e73b5",
                "language": "python"
            },
            "outputs": [
                {
                    "output_type": "stream",
                    "name": "stdout",
                    "text": "Dataset labels: (39988, 18)\nTrain labels: (15796, 18)\nTest labels: (4393, 18)\nValidation labels: (1754, 18)\n"
                }
            ],
            "execution_count": 21
        },
        {
            "cell_type": "markdown",
            "source": [
                "# Step 4: Text cleaning"
            ],
            "metadata": {
                "colab_type": "text",
                "id": "EtHds4_LIp3Y",
                "azdata_cell_guid": "d6afbf27-c900-472b-9320-9c3b8a8d29ac"
            }
        },
        {
            "cell_type": "markdown",
            "source": [
                "## Lemmatization\n",
                "Cleaning the overview text of the movies, removing punctuation, lowering each word, removal of non-alphabetic words and lemmatization"
            ],
            "metadata": {
                "nteract": {
                    "transient": {
                        "deleting": false
                    }
                },
                "azdata_cell_guid": "bc2b754d-9de7-4cdf-9dbc-dd05b03e2af0"
            }
        },
        {
            "cell_type": "code",
            "source": [
                "stop = stopwords.words('english')\n",
                "wn_lem = WordNetLemmatizer()\n",
                "\n",
                "def clean_text(text):\n",
                "  text = text.translate(str.maketrans('', '', punctuation))\n",
                "  text = text.lower().strip()\n",
                "  text = ' '.join([i if i not in stop and i.isalpha() else '' for i in text.lower().split()])\n",
                "  text = ' '.join([wn_lem.lemmatize(w) for w in word_tokenize(text)])\n",
                "  text = re.sub(r\"\\s{2,}\", \" \", text)\n",
                "  return text"
            ],
            "metadata": {
                "jupyter": {
                    "source_hidden": false,
                    "outputs_hidden": false
                },
                "nteract": {
                    "transient": {
                        "deleting": false
                    }
                },
                "gather": {
                    "logged": 1671670412374
                },
                "azdata_cell_guid": "fce28d6a-d372-4518-9bac-a671d78802ed",
                "language": "python"
            },
            "outputs": [],
            "execution_count": 22
        },
        {
            "cell_type": "code",
            "source": [
                "# Lemmatization\n",
                "train['overview'] = train['overview'].astype(str)\n",
                "test['overview'] = test['overview'].astype(str)\n",
                "val['overview'] = val['overview'].astype(str)\n",
                "\n",
                "train['overview'] = train['overview'].apply(lambda text: clean_text(text))\n",
                "test['overview'] = test['overview'].apply(lambda text: clean_text(text))\n",
                "val['overview'] = val['overview'].apply(lambda text: clean_text(text))\n",
                "\n",
                "dataset['overview'] = dataset['overview'].astype(str)\n",
                "dataset['overview'] = dataset['overview'].apply(lambda text: clean_text(text))"
            ],
            "metadata": {
                "colab": {},
                "colab_type": "code",
                "id": "PCy4O5utiqdV",
                "gather": {
                    "logged": 1671670442702
                },
                "azdata_cell_guid": "9840c881-5959-4e4d-b05d-67f04c87ae5e",
                "language": "python"
            },
            "outputs": [],
            "execution_count": 23
        },
        {
            "cell_type": "markdown",
            "source": [
                "# Step 5: Text Tokenizing\n",
                "Fitting the Keras Tokenizer on the entire dataset"
            ],
            "metadata": {
                "nteract": {
                    "transient": {
                        "deleting": false
                    }
                },
                "azdata_cell_guid": "9ea33a6d-ba45-4357-8985-f2b5abd1b9a5"
            }
        },
        {
            "cell_type": "code",
            "source": [
                "# Tokenizing\n",
                "max_words = 50000\n",
                "max_seq_len = dataset['overview'].map(len).max()\n",
                "embedd_dim = 300\n",
                "tokenizer = Tokenizer(num_words=max_words, lower=True)\n",
                "tokenizer.fit_on_texts(dataset['overview'].values)\n",
                "word_index = tokenizer.word_index\n",
                "print('Found %s unique tokens.' % len(word_index))\n",
                "print('Max len:', max_seq_len)"
            ],
            "metadata": {
                "colab": {
                    "base_uri": "https://localhost:8080/",
                    "height": 52
                },
                "colab_type": "code",
                "id": "VBAFGPdJkpFx",
                "outputId": "9f8ffd58-84c0-496b-ea5b-20dcbd57e7ea",
                "gather": {
                    "logged": 1671671596325
                },
                "azdata_cell_guid": "72df627b-13c7-423b-812e-28c5e875af94",
                "language": "python"
            },
            "outputs": [
                {
                    "output_type": "stream",
                    "name": "stdout",
                    "text": "Found 74994 unique tokens.\nMax len: 868\n"
                }
            ],
            "execution_count": 24
        },
        {
            "cell_type": "markdown",
            "source": [
                "# Step 6: Text Embedding\n",
                "\n",
                "Word2vec is used for text embedding. This function loads the word2vec model and intializes the embedding matrix. \n",
                "<br>Each word which is present in the embedding is then added as a vector to the embedding matrix.\n"
            ],
            "metadata": {
                "colab_type": "text",
                "id": "oZgDVxFZJ5IO",
                "azdata_cell_guid": "4728a101-be5b-48c2-a025-47c4562dc100"
            }
        },
        {
            "cell_type": "markdown",
            "source": [
                "## Word2Vec embedding"
            ],
            "metadata": {
                "nteract": {
                    "transient": {
                        "deleting": false
                    }
                },
                "azdata_cell_guid": "3285b720-0004-4504-b7a1-2af0cee75393"
            }
        },
        {
            "cell_type": "code",
            "source": [
                "# Get the GoogleNews-vectors from blob storage\n",
                "ml_container = 'azureml'\n",
                "vector_file = 'GoogleNews-vectors-negative300.bin'\n",
                "vector_instance = blob_service_client_instance.get_blob_client(ml_container, vector_file)\n",
                "\n",
                "with open(vector_file, 'wb') as my_blob:\n",
                "    blob_data = vector_instance.download_blob()\n",
                "    blob_data.readinto(my_blob)"
            ],
            "metadata": {
                "jupyter": {
                    "source_hidden": false,
                    "outputs_hidden": false
                },
                "nteract": {
                    "transient": {
                        "deleting": false
                    }
                },
                "gather": {
                    "logged": 1671671754640
                },
                "azdata_cell_guid": "8a794bd0-2708-47c5-bf43-f995c944be82",
                "language": "python"
            },
            "outputs": [],
            "execution_count": 25
        },
        {
            "cell_type": "code",
            "source": [
                "def get_embedding_matrix():\n",
                "    \n",
                "  # Load vector file  \n",
                "  word2vecDict = KeyedVectors.load_word2vec_format(vector_file, binary=True)\n",
                "\n",
                "  # Embeddings\n",
                "  embed_size = 300\n",
                "  embeddings_index = dict()\n",
                "\n",
                "  # Embedding dictionary\n",
                "  for word in word2vecDict.wv.vocab:\n",
                "    embeddings_index[word] = word2vecDict.word_vec(word)\n",
                "\n",
                "  # Embedding matrix\n",
                "  print(\"Loaded \" + str(len(embeddings_index)) + \" word vectors.\")\n",
                "  embedding_matrix = 1 * np.random.randn(len(word_index)+1, embed_size)\n",
                "\n",
                "  # Embedding count\n",
                "  embed_count = 0\n",
                "  for word, i in word_index.items():\n",
                "    i -=1\n",
                "    embedding_vector = embeddings_index.get(word)\n",
                "    \n",
                "    if embedding_vector is not None: \n",
                "      embedding_matrix[i] = embedding_vector\n",
                "      embed_count+=1\n",
                "\n",
                "  # Total embedded words\n",
                "  print(\"Total embedded:\", embed_count, \"common words\")\n",
                "  \n",
                "  # Delete embedding index\n",
                "  del(embeddings_index)\n",
                "        \n",
                "  return embedding_matrix"
            ],
            "metadata": {
                "colab": {},
                "colab_type": "code",
                "id": "McG3kW4Jj8Qb",
                "gather": {
                    "logged": 1671671765311
                },
                "azdata_cell_guid": "bc7a21dd-ab13-493c-8663-2abc924b93eb",
                "language": "python"
            },
            "outputs": [],
            "execution_count": 26
        },
        {
            "cell_type": "code",
            "source": [
                "word2vec_embedding_matrix = get_embedding_matrix()"
            ],
            "metadata": {
                "jupyter": {
                    "source_hidden": false,
                    "outputs_hidden": false
                },
                "nteract": {
                    "transient": {
                        "deleting": false
                    }
                },
                "gather": {
                    "logged": 1671671857503
                },
                "azdata_cell_guid": "c2ae407a-76ce-447d-9512-60077d4a97fe",
                "language": "python"
            },
            "outputs": [
                {
                    "output_type": "stream",
                    "name": "stderr",
                    "text": "/tmp/ipykernel_36256/312574656.py:11: DeprecationWarning: Call to deprecated `wv` (Attribute will be removed in 4.0.0, use self instead).\n  for word in word2vecDict.wv.vocab:\n"
                },
                {
                    "output_type": "stream",
                    "name": "stdout",
                    "text": "Loaded 3000000 word vectors.\nTotal embedded: 35332 common words\n"
                }
            ],
            "execution_count": 27
        },
        {
            "cell_type": "markdown",
            "source": [
                "## Tensor sequences"
            ],
            "metadata": {
                "nteract": {
                    "transient": {
                        "deleting": false
                    }
                },
                "azdata_cell_guid": "507fafe5-4596-45da-b01a-434e622d0388"
            }
        },
        {
            "cell_type": "code",
            "source": [
                "# Train tensor\n",
                "X_text_train = tokenizer.texts_to_sequences(train['overview'].values)\n",
                "X_text_train = pad_sequences(X_text_train, maxlen=max_seq_len)\n",
                "print('Shape of train tensor:', X_text_train.shape)\n",
                "\n",
                "# Test tensor\n",
                "X_text_test = tokenizer.texts_to_sequences(test['overview'].values)\n",
                "X_text_test = pad_sequences(X_text_test, maxlen=max_seq_len)\n",
                "print('Shape of test tensor:', X_text_test.shape)\n",
                "\n",
                "# Validation tensor\n",
                "X_text_val = tokenizer.texts_to_sequences(val['overview'].values)\n",
                "X_text_val = pad_sequences(X_text_val, maxlen=max_seq_len)\n",
                "print('Shape of validation tensor:', X_text_val.shape)"
            ],
            "metadata": {
                "colab": {
                    "base_uri": "https://localhost:8080/",
                    "height": 35
                },
                "colab_type": "code",
                "id": "mAx-SX6Cmahq",
                "outputId": "0f141e15-09d1-4900-8b49-659c9393a618",
                "gather": {
                    "logged": 1671672701275
                },
                "azdata_cell_guid": "23436ace-4493-43c5-ab88-cf2ab0f9b603",
                "language": "python"
            },
            "outputs": [
                {
                    "output_type": "stream",
                    "name": "stdout",
                    "text": "Shape of train tensor: (15796, 868)\nShape of test tensor: (4393, 868)\nShape of validation tensor: (1754, 868)\n"
                }
            ],
            "execution_count": 29
        },
        {
            "cell_type": "markdown",
            "source": [
                "# Step 7: Implement Model"
            ],
            "metadata": {
                "nteract": {
                    "transient": {
                        "deleting": false
                    }
                },
                "azdata_cell_guid": "498bfec3-d0cf-4062-a90d-7e6eade2cbe5"
            }
        },
        {
            "cell_type": "markdown",
            "source": [
                "## Model architecture\n",
                "\n",
                "The model architecture consists of an LSTM and a CNN. \n",
                "<br><br>The LSTM takes the input as a padded sequence of the overview of a movie.\n",
                "<br>The CNN takes image of movie poster as the input. \n",
                "\n",
                "Each model has a fully connected layer whose output is concatenated and fed forward to a final fully connected layer with 18 output units. The output layer has a sigmoid activation function.\n",
                "<br>Binary crossentropy and Adam optimizer is used as loss function and optimizer respectively"
            ],
            "metadata": {
                "nteract": {
                    "transient": {
                        "deleting": false
                    }
                },
                "azdata_cell_guid": "f4aad12f-0c1d-4f0f-98ed-ac7f6bf6809b"
            }
        },
        {
            "cell_type": "markdown",
            "source": [
                "## Configure model"
            ],
            "metadata": {
                "nteract": {
                    "transient": {
                        "deleting": false
                    }
                },
                "azdata_cell_guid": "e1479fc5-6cb4-4f04-afc1-17f10cd0e8c4"
            }
        },
        {
            "cell_type": "code",
            "source": [
                "# Set device\n",
                "device = torch.device('cuda' if torch.cuda.is_available() else 'cpu')\n",
                "print(device)\n",
                "\n",
                "# Delete model\n",
                "torch.cuda.empty_cache()"
            ],
            "metadata": {
                "jupyter": {
                    "source_hidden": false,
                    "outputs_hidden": false
                },
                "nteract": {
                    "transient": {
                        "deleting": false
                    }
                },
                "gather": {
                    "logged": 1671672907142
                },
                "azdata_cell_guid": "0d990777-162a-4f06-b3cf-25db658ea90f",
                "language": "python"
            },
            "outputs": [
                {
                    "output_type": "stream",
                    "name": "stdout",
                    "text": "cuda\n"
                }
            ],
            "execution_count": 30
        },
        {
            "cell_type": "markdown",
            "source": [
                "## Reshape numpy arrays\n",
                "Reshaping numpy arrays containing image data to (number of images channels width * height)."
            ],
            "metadata": {
                "nteract": {
                    "transient": {
                        "deleting": false
                    }
                },
                "azdata_cell_guid": "fb9c879c-f147-4d3c-b871-6972b2785a45"
            }
        },
        {
            "cell_type": "code",
            "source": [
                "# Reshape numpy arrays\n",
                "X_img_val = np.reshape(X_img_val, (X_img_val.shape[0], 3, 75, 115))         # validation array\n",
                "X_img_test = np.reshape(X_img_test, (X_img_test.shape[0], 3, 75, 115))      # test array\n",
                "X_img_train = np.reshape(X_img_train, (X_img_train.shape[0], 3, 75, 115))   # train array"
            ],
            "metadata": {
                "jupyter": {
                    "source_hidden": false,
                    "outputs_hidden": false
                },
                "nteract": {
                    "transient": {
                        "deleting": false
                    }
                },
                "gather": {
                    "logged": 1671672912710
                },
                "azdata_cell_guid": "401dac9e-ef1b-4d36-a2c8-ef88b046f424",
                "language": "python"
            },
            "outputs": [],
            "execution_count": 31
        },
        {
            "cell_type": "markdown",
            "source": [
                "## Load text and image inputs\n",
                "Creating data loaders for the text and image inputs for the train, validation and test sets"
            ],
            "metadata": {
                "nteract": {
                    "transient": {
                        "deleting": false
                    }
                },
                "azdata_cell_guid": "8354e30c-d7ad-453d-b78f-19e496427c54"
            }
        },
        {
            "cell_type": "code",
            "source": [
                "# Text and Image tensor dataset\n",
                "text_train_data = TensorDataset(torch.from_numpy(X_text_train), torch.from_numpy(train_labels))\n",
                "img_train_data = TensorDataset(torch.from_numpy(X_img_train), torch.from_numpy(train_labels))\n",
                "\n",
                "text_val_data = TensorDataset(torch.from_numpy(X_text_val), torch.from_numpy(val_labels))\n",
                "img_val_data = TensorDataset(torch.from_numpy(X_img_val), torch.from_numpy(val_labels))\n",
                "\n",
                "text_test_data = TensorDataset(torch.from_numpy(X_text_test), torch.from_numpy(test_labels))\n",
                "img_test_data = TensorDataset(torch.from_numpy(X_img_test), torch.from_numpy(test_labels))\n",
                "\n",
                "# Text and Image dataloader\n",
                "batch_size = 64\n",
                "\n",
                "text_train_loader = DataLoader(text_train_data, batch_size=batch_size)\n",
                "img_train_loader = DataLoader(img_train_data, batch_size=batch_size)\n",
                "\n",
                "text_val_loader = DataLoader(text_val_data, batch_size=batch_size)\n",
                "img_val_loader = DataLoader(img_val_data, batch_size=batch_size)\n",
                "\n",
                "text_test_loader = DataLoader(text_test_data, batch_size=batch_size)\n",
                "img_test_loader = DataLoader(img_test_data, batch_size=batch_size)\n",
                "\n",
                "print(f'Train text: \\t{len(text_train_loader)}  \\tTrain image:  \\t{len(img_train_loader)}')\n",
                "print(f'Validation text:{len(text_val_loader)}  \\tValidation image:{len(img_val_loader)}')\n",
                "print(f'Test text: \\t{len(text_test_loader)}  \\tTest image:  \\t{len(img_test_loader)}')"
            ],
            "metadata": {
                "jupyter": {
                    "source_hidden": false,
                    "outputs_hidden": false
                },
                "nteract": {
                    "transient": {
                        "deleting": false
                    }
                },
                "gather": {
                    "logged": 1671673058152
                },
                "azdata_cell_guid": "6bb5d3d4-edf4-40a5-bf48-2cbbe3a7dae9",
                "language": "python"
            },
            "outputs": [
                {
                    "output_type": "stream",
                    "name": "stdout",
                    "text": "Train text: \t247  \tTrain image:  \t247\nValidation text:28  \tValidation image:28\nTest text: \t69  \tTest image:  \t69\n"
                }
            ],
            "execution_count": 39
        },
        {
            "cell_type": "markdown",
            "source": [
                "## Compile model\n",
                "The model consisting of a CNN and LSTM with their outputs being fed into a set of fully connected layers. The final layer consists of 18 output units each having a sigmoid activation"
            ],
            "metadata": {
                "nteract": {
                    "transient": {
                        "deleting": false
                    }
                },
                "azdata_cell_guid": "00d97e0e-afff-40f7-8edf-ed59e7ac6fd9"
            }
        },
        {
            "cell_type": "code",
            "source": [
                "class CNN_LSTM(nn.Module):\n",
                "  def __init__(self, vocab_size, weights_matrix, n_hidden, n_layers, n_out):\n",
                "    super(CNN_LSTM, self).__init__()\n",
                "\n",
                "    # LSTM for the text overview\n",
                "    self.vocab_size, self.n_hidden, self.n_out, self.n_layers = vocab_size, n_hidden, n_out, n_layers\n",
                "    num_embeddings, embedding_dim = weights_matrix.shape[0], weights_matrix.shape[1]\n",
                "    self.emb = nn.Embedding(num_embeddings, embedding_dim)\n",
                "    self.emb.weight.data.copy_(torch.from_numpy(weights_matrix))\n",
                "    self.emb.weight.requires_grad = True\n",
                "    self.lstm = nn.LSTM(embedding_dim, self.n_hidden, self.n_layers, dropout=0.2, batch_first=True)\n",
                "    self.dropout = nn.Dropout(0.1)\n",
                "    self.lstm_fc = nn.Linear(self.n_hidden, 128)\n",
                "\n",
                "    # CNN for the posters\n",
                "    # Creating convolutional layers and subsequently max-pooling\n",
                "    self.conv1 = nn.Conv2d(3, 32, 3)\n",
                "    self.max_pool1 = nn.MaxPool2d(2)\n",
                "    self.conv2 = nn.Conv2d(32, 64, 3)\n",
                "    self.max_pool2 = nn.MaxPool2d(2)\n",
                "    self.conv3 = nn.Conv2d(64, 128, 3)\n",
                "    self.max_pool3 = nn.MaxPool2d(2)\n",
                "    self.conv4 = nn.Conv2d(128, 128, 3)\n",
                "    self.max_pool4 = nn.MaxPool2d(2)\n",
                "    self.cnn_dropout = nn.Dropout(0.1)\n",
                "    self.cnn_fc = nn.Linear(5*2*128, 512)\n",
                "\n",
                "    # Concat layer for the combined feature space\n",
                "    self.combined_fc1 = nn.Linear(640, 256)\n",
                "    self.combined_fc2 = nn.Linear(256, 128)\n",
                "    self.output_fc = nn.Linear(128, n_out)\n",
                "\n",
                "  def forward(self, lstm_inp, cnn_inp):\n",
                "    batch_size = lstm_inp.size(0)\n",
                "    hidden = self.init_hidden(batch_size)\n",
                "    lstm_inp = lstm_inp.long()\n",
                "    embeds = self.emb(lstm_inp)\n",
                "    lstm_out, hidden = self.lstm(embeds, hidden)\n",
                "    lstm_out = self.dropout(lstm_out[:, -1])\n",
                "    lstm_out = F.relu(self.lstm_fc(lstm_out))\n",
                "\n",
                "    # Create fully connected layers on the combined features and max-pooling\n",
                "    x = F.relu(self.conv1(cnn_inp))\n",
                "    x = self.max_pool1(x)\n",
                "    x = F.relu(self.conv2(x))\n",
                "    x = self.max_pool2(x)\n",
                "    x = F.relu(self.conv3(x))\n",
                "    x = self.max_pool3(x)\n",
                "    x = F.relu(self.conv4(x))\n",
                "    x = self.max_pool4(x)\n",
                "    x = x.view(-1, 5*2*128)\n",
                "    x = self.cnn_dropout(x)\n",
                "    cnn_out = F.relu(self.cnn_fc(x))\n",
                "\n",
                "    # Combine outputs from LSTM and CNN\n",
                "    combined_inp = torch.cat((cnn_out, lstm_out), 1)\n",
                "    x_comb = F.relu(self.combined_fc1(combined_inp))\n",
                "    x_comb = F.relu(self.combined_fc2(x_comb))\n",
                "\n",
                "    # Using the sigmoid activation function\n",
                "    out = torch.sigmoid(self.output_fc(x_comb))\n",
                "\n",
                "    return out\n",
                "\n",
                "  def init_hidden(self, batch_size):\n",
                "    weight = next(self.parameters()).data\n",
                "    hidden = (weight.new(self.n_layers, batch_size, self.n_hidden).zero_().to(device),\n",
                "              weight.new(self.n_layers, batch_size, self.n_hidden).zero_().to(device))\n",
                "    return hidden"
            ],
            "metadata": {
                "jupyter": {
                    "source_hidden": false,
                    "outputs_hidden": false
                },
                "nteract": {
                    "transient": {
                        "deleting": false
                    }
                },
                "gather": {
                    "logged": 1671673367450
                },
                "azdata_cell_guid": "d8b21693-1977-4e31-94c0-506e9dde3a85",
                "language": "python"
            },
            "outputs": [],
            "execution_count": 40
        },
        {
            "cell_type": "markdown",
            "source": [
                "## Model Summary"
            ],
            "metadata": {
                "nteract": {
                    "transient": {
                        "deleting": false
                    }
                },
                "azdata_cell_guid": "50c80ada-57f0-4c0a-899f-f5db53438b65"
            }
        },
        {
            "cell_type": "code",
            "source": [
                "vocab_size = len(word_index)+1\n",
                "output_size = train_labels.shape[1]\n",
                "embedding_dim = 300\n",
                "hidden_dim = 64\n",
                "n_layers = 2\n",
                "\n",
                "# Output size\n",
                "print(f'Output size: {output_size}\\n')\n",
                "\n",
                "# Display model summary\n",
                "model = CNN_LSTM(vocab_size, word2vec_embedding_matrix, hidden_dim, n_layers, output_size)\n",
                "model.to(device)\n",
                "print(model)"
            ],
            "metadata": {
                "jupyter": {
                    "source_hidden": false,
                    "outputs_hidden": false
                },
                "nteract": {
                    "transient": {
                        "deleting": false
                    }
                },
                "gather": {
                    "logged": 1671673384524
                },
                "azdata_cell_guid": "335510a5-45f2-409a-9cdf-1e6de7696cfe",
                "language": "python"
            },
            "outputs": [
                {
                    "output_type": "stream",
                    "name": "stdout",
                    "text": "Output size: 18\n\nCNN_LSTM(\n  (emb): Embedding(74995, 300)\n  (lstm): LSTM(300, 64, num_layers=2, batch_first=True, dropout=0.2)\n  (dropout): Dropout(p=0.1, inplace=False)\n  (lstm_fc): Linear(in_features=64, out_features=128, bias=True)\n  (conv1): Conv2d(3, 32, kernel_size=(3, 3), stride=(1, 1))\n  (max_pool1): MaxPool2d(kernel_size=2, stride=2, padding=0, dilation=1, ceil_mode=False)\n  (conv2): Conv2d(32, 64, kernel_size=(3, 3), stride=(1, 1))\n  (max_pool2): MaxPool2d(kernel_size=2, stride=2, padding=0, dilation=1, ceil_mode=False)\n  (conv3): Conv2d(64, 128, kernel_size=(3, 3), stride=(1, 1))\n  (max_pool3): MaxPool2d(kernel_size=2, stride=2, padding=0, dilation=1, ceil_mode=False)\n  (conv4): Conv2d(128, 128, kernel_size=(3, 3), stride=(1, 1))\n  (max_pool4): MaxPool2d(kernel_size=2, stride=2, padding=0, dilation=1, ceil_mode=False)\n  (cnn_dropout): Dropout(p=0.1, inplace=False)\n  (cnn_fc): Linear(in_features=1280, out_features=512, bias=True)\n  (combined_fc1): Linear(in_features=640, out_features=256, bias=True)\n  (combined_fc2): Linear(in_features=256, out_features=128, bias=True)\n  (output_fc): Linear(in_features=128, out_features=18, bias=True)\n)\n"
                }
            ],
            "execution_count": 41
        },
        {
            "cell_type": "markdown",
            "source": [
                "## Define hyperparameters\n",
                "Defining the hyperparameters of the model along with defining the optimizer and loss function. Here, the binary cross entropy loss is used. \n",
                "<br>The embedding layer with the word2vec embedding is also trainable in order to fine-tune the model. This was done because a sizable portion of the terms in the word2vec vocabulary were missing."
            ],
            "metadata": {
                "nteract": {
                    "transient": {
                        "deleting": false
                    }
                },
                "azdata_cell_guid": "321aa00e-cdbc-47a3-97b1-816985b70492"
            }
        },
        {
            "cell_type": "code",
            "source": [
                "# Used binary cross entropy loss and Adam optimizer\n",
                "lr=0.001\n",
                "criterion = nn.BCELoss()\n",
                "optimizer = torch.optim.Adam(model.parameters(), lr=lr, weight_decay=1e-5)"
            ],
            "metadata": {
                "jupyter": {
                    "source_hidden": false,
                    "outputs_hidden": false
                },
                "nteract": {
                    "transient": {
                        "deleting": false
                    }
                },
                "gather": {
                    "logged": 1671673546190
                },
                "azdata_cell_guid": "fcf44e3f-1d04-469a-995d-685fe420ba6e",
                "language": "python"
            },
            "outputs": [],
            "execution_count": 42
        },
        {
            "cell_type": "markdown",
            "source": [
                "# Step 8: Training Model"
            ],
            "metadata": {
                "nteract": {
                    "transient": {
                        "deleting": false
                    }
                },
                "azdata_cell_guid": "03a31337-7cbc-4dd0-b7b2-87440d57f2a4"
            }
        },
        {
            "cell_type": "markdown",
            "source": [
                "## Training and validation\n",
                "Training and validation of the model using LSTM and CNN layers\n",
                "<br><br>PyTorch accumulates the gradients on consecutive backward runs, so Weights want to explicitly set the gradients to zero for each mini-batch during the training phase before beginning to do backpropragation <br>(i.e., updating the Weights and biases)."
            ],
            "metadata": {
                "nteract": {
                    "transient": {
                        "deleting": false
                    }
                },
                "azdata_cell_guid": "54278e77-81e8-4b44-8ead-aa275b5042bb"
            }
        },
        {
            "cell_type": "code",
            "source": [
                "epochs = 20\n",
                "clip = 5\n",
                "\n",
                "# Train model\n",
                "model.train()\n",
                "\n",
                "for i in range(epochs):\n",
                "  total_acc_train = 0\n",
                "  total_loss_train = 0\n",
                "    \n",
                "  # Backpropagation\n",
                "  for lstm, cnn in zip(text_train_loader, img_train_loader):\n",
                "    lstm_inp, lstm_labels = lstm\n",
                "    cnn_inp, cnn_labels = cnn\n",
                "    lstm_inp, lstm_labels = lstm_inp.to(device), lstm_labels.to(device)\n",
                "    cnn_inp, cnn_labels = cnn_inp.to(device), cnn_labels.to(device)\n",
                "    model.zero_grad()\n",
                "    output = model(lstm_inp, cnn_inp)\n",
                "    loss = criterion(output.squeeze(), lstm_labels.float())\n",
                "    loss.backward()\n",
                "    nn.utils.clip_grad_norm_(model.parameters(), clip)\n",
                "    optimizer.step()\n",
                "    \n",
                "    with torch.no_grad():\n",
                "      acc = torch.abs(output.squeeze() - lstm_labels.float()).view(-1)\n",
                "      acc = (1. - acc.sum() / acc.size()[0])\n",
                "      total_acc_train += acc\n",
                "      total_loss_train += loss.item()\n",
                "  \n",
                "  # Get accuracy and loss for training datasets\n",
                "  train_acc = total_acc_train/len(text_train_loader)\n",
                "  train_loss = total_loss_train/len(text_train_loader)\n",
                "\n",
                "  # Evaluate model\n",
                "  model.eval()\n",
                "\n",
                "  tot_acc_val = 0\n",
                "  tot_loss_val = 0\n",
                "\n",
                "  with torch.no_grad():\n",
                "    for lstm, cnn in zip(text_val_loader, img_val_loader):\n",
                "      lstm_inp, lstm_labels = lstm\n",
                "      cnn_inp, cnn_labels = cnn\n",
                "      lstm_inp, lstm_labels = lstm_inp.to(device), lstm_labels.to(device)\n",
                "      cnn_inp, cnn_labels = cnn_inp.to(device), cnn_labels.to(device)\n",
                "      model.zero_grad()\n",
                "      output = model(lstm_inp, cnn_inp)\n",
                "      val_loss = criterion(output.squeeze(), lstm_labels.float())\n",
                "      acc = torch.abs(output.squeeze() - lstm_labels.float()).view(-1)\n",
                "      acc = (1. - acc.sum() / acc.size()[0])\n",
                "      tot_acc_val += acc\n",
                "      tot_loss_val += val_loss.item()\n",
                "    \n",
                "    # Save model\n",
                "    print(\"Saving model...\") \n",
                "    torch.save(model.state_dict(), f'{datastore_path}/paths/pytorch_word2vec_lstm_less_dropout.pt')\n",
                "  \n",
                "  # Get accuracy and loss for validation datasets\n",
                "  val_acc = tot_acc_val/len(text_val_loader)\n",
                "  val_loss = tot_loss_val/len(text_val_loader)\n",
                "  print(f'Epoch {i+1}: train_loss: {train_loss:.4f} train_acc: {train_acc:.4f} | val_loss: {val_loss:.4f} val_acc: {val_acc:.4f}')\n",
                "\n",
                "  # Train model\n",
                "  model.train()\n",
                "\n",
                "  # Empty cache\n",
                "  torch.cuda.empty_cache()"
            ],
            "metadata": {
                "jupyter": {
                    "source_hidden": false,
                    "outputs_hidden": false
                },
                "nteract": {
                    "transient": {
                        "deleting": false
                    }
                },
                "gather": {
                    "logged": 1671675024823
                },
                "azdata_cell_guid": "34a275a7-d611-4241-9af1-5318d7c14dc3",
                "language": "python"
            },
            "outputs": [
                {
                    "output_type": "stream",
                    "name": "stdout",
                    "text": "Saving model...\nEpoch 1: train_loss: 0.3227 train_acc: 0.8125 | val_loss: 0.3133 val_acc: 0.8347\nSaving model...\nEpoch 2: train_loss: 0.2938 train_acc: 0.8287 | val_loss: 0.2849 val_acc: 0.8331\nSaving model...\nEpoch 3: train_loss: 0.2677 train_acc: 0.8424 | val_loss: 0.2745 val_acc: 0.8464\nSaving model...\nEpoch 4: train_loss: 0.2540 train_acc: 0.8502 | val_loss: 0.2712 val_acc: 0.8473\nSaving model...\nEpoch 5: train_loss: 0.2415 train_acc: 0.8567 | val_loss: 0.2732 val_acc: 0.8549\nSaving model...\nEpoch 6: train_loss: 0.2280 train_acc: 0.8638 | val_loss: 0.2720 val_acc: 0.8592\nSaving model...\nEpoch 7: train_loss: 0.2168 train_acc: 0.8699 | val_loss: 0.2705 val_acc: 0.8537\nSaving model...\nEpoch 8: train_loss: 0.2094 train_acc: 0.8743 | val_loss: 0.2669 val_acc: 0.8541\nSaving model...\nEpoch 9: train_loss: 0.2044 train_acc: 0.8772 | val_loss: 0.2668 val_acc: 0.8645\nSaving model...\nEpoch 10: train_loss: 0.1968 train_acc: 0.8819 | val_loss: 0.2703 val_acc: 0.8581\nSaving model...\nEpoch 11: train_loss: 0.1880 train_acc: 0.8874 | val_loss: 0.2753 val_acc: 0.8635\nSaving model...\nEpoch 12: train_loss: 0.1795 train_acc: 0.8927 | val_loss: 0.2861 val_acc: 0.8665\nSaving model...\nEpoch 13: train_loss: 0.1739 train_acc: 0.8965 | val_loss: 0.2783 val_acc: 0.8600\nSaving model...\nEpoch 14: train_loss: 0.1687 train_acc: 0.8994 | val_loss: 0.2897 val_acc: 0.8607\nSaving model...\nEpoch 15: train_loss: 0.1635 train_acc: 0.9025 | val_loss: 0.2893 val_acc: 0.8695\nSaving model...\nEpoch 16: train_loss: 0.1555 train_acc: 0.9070 | val_loss: 0.2981 val_acc: 0.8718\nSaving model...\nEpoch 17: train_loss: 0.1475 train_acc: 0.9119 | val_loss: 0.3072 val_acc: 0.8696\nSaving model...\nEpoch 18: train_loss: 0.1451 train_acc: 0.9134 | val_loss: 0.3190 val_acc: 0.8684\nSaving model...\nEpoch 19: train_loss: 0.1395 train_acc: 0.9166 | val_loss: 0.3447 val_acc: 0.8729\nSaving model...\nEpoch 20: train_loss: 0.1339 train_acc: 0.9198 | val_loss: 0.3490 val_acc: 0.8781\n"
                }
            ],
            "execution_count": 43
        },
        {
            "cell_type": "markdown",
            "source": [
                "## Saving model"
            ],
            "metadata": {
                "nteract": {
                    "transient": {
                        "deleting": false
                    }
                },
                "azdata_cell_guid": "014a7064-ec0b-4016-baa2-189ded83b5cf"
            }
        },
        {
            "cell_type": "code",
            "source": [
                "# Save model\n",
                "torch.save(model.state_dict(), f'{datastore_path}/paths/pytorch_word2vec_less_dropout.pt')"
            ],
            "metadata": {
                "jupyter": {
                    "source_hidden": false,
                    "outputs_hidden": false
                },
                "nteract": {
                    "transient": {
                        "deleting": false
                    }
                },
                "gather": {
                    "logged": 1671675339539
                },
                "azdata_cell_guid": "0c13ae3f-331b-4651-93fa-61ed5e08d045",
                "language": "python"
            },
            "outputs": [],
            "execution_count": 45
        },
        {
            "cell_type": "markdown",
            "source": [
                "# Step 9: Testing Model"
            ],
            "metadata": {
                "nteract": {
                    "transient": {
                        "deleting": false
                    }
                },
                "azdata_cell_guid": "4da997df-4a95-4917-823b-9cb09e7cc316"
            }
        },
        {
            "cell_type": "markdown",
            "source": [
                "## Check accuracy and loss"
            ],
            "metadata": {
                "nteract": {
                    "transient": {
                        "deleting": false
                    }
                },
                "azdata_cell_guid": "2b3ca83a-bc9a-4d2c-b715-d8d5a92913e8"
            }
        },
        {
            "cell_type": "code",
            "source": [
                "# Evaluate model\n",
                "model.eval()\n",
                "\n",
                "tot_acc_test = 0\n",
                "tot_loss_test = 0\n",
                "outputs = []\n",
                "\n",
                "# Total accuracy and loss\n",
                "with torch.no_grad():\n",
                "  for lstm, cnn in zip(text_test_loader, img_test_loader):\n",
                "    lstm_inp, lstm_labels = lstm\n",
                "    cnn_inp, cnn_labels = cnn\n",
                "    lstm_inp, lstm_labels = lstm_inp.to(device), lstm_labels.to(device)\n",
                "    cnn_inp, cnn_labels = cnn_inp.to(device), cnn_labels.to(device)\n",
                "    out = model(lstm_inp, cnn_inp)\n",
                "    outputs += list(out.cpu().data.numpy())\n",
                "    loss = criterion(out.squeeze(), lstm_labels.float())\n",
                "    acc = torch.abs(out.squeeze() - lstm_labels.float()).view(-1)\n",
                "    acc = (1. - acc.sum() / acc.size()[0])\n",
                "\n",
                "    tot_acc_test += acc\n",
                "    tot_loss_test += loss.item()\n",
                "\n",
                "# Accuracy and Loss test\n",
                "acc_test = tot_acc_test/len(text_test_loader)\n",
                "loss_test = tot_loss_test/len(text_test_loader)\n",
                "\n",
                "print(f'Accuracy: {acc_test:.4f} Loss: {loss_test:.4f}')"
            ],
            "metadata": {
                "jupyter": {
                    "source_hidden": false,
                    "outputs_hidden": false
                },
                "nteract": {
                    "transient": {
                        "deleting": false
                    }
                },
                "gather": {
                    "logged": 1671676430291
                },
                "azdata_cell_guid": "f5b438d4-e706-4114-9699-0c195397fb8d",
                "language": "python"
            },
            "outputs": [
                {
                    "output_type": "stream",
                    "name": "stdout",
                    "text": "Accuracy: 0.8765 Loss: 0.3626\n"
                }
            ],
            "execution_count": 46
        },
        {
            "cell_type": "markdown",
            "source": [
                "## Prediction and check scores"
            ],
            "metadata": {
                "nteract": {
                    "transient": {
                        "deleting": false
                    }
                },
                "azdata_cell_guid": "ef4fa7f4-ff6c-46bd-a5c4-8f87862d7b0c"
            }
        },
        {
            "cell_type": "code",
            "source": [
                "# Prediction\n",
                "np_out = np.array(outputs)\n",
                "y_pred = np.zeros(np_out.shape)\n",
                "y_pred[np_out>0.5]=1\n",
                "y_pred = np.array(y_pred)\n",
                "\n",
                "# Get precision, recall, f1 and accuracy scores along with hamming loss\n",
                "print(f'Recall score:  \\t{recall_score(test_labels, y_pred, average=\"samples\")}')\n",
                "print(f'Precision score:{precision_score(test_labels, y_pred, average=\"samples\")}')\n",
                "print(f'F1 score:  \\t{f1_score(test_labels, y_pred, average=\"samples\")}')\n",
                "print(f'Hamming loss:  \\t{hamming_loss(test_labels, y_pred)}')\n",
                "print(f'Accuracy score: {accuracy_score(test_labels, y_pred)}')"
            ],
            "metadata": {
                "jupyter": {
                    "source_hidden": false,
                    "outputs_hidden": false
                },
                "nteract": {
                    "transient": {
                        "deleting": false
                    }
                },
                "gather": {
                    "logged": 1671676601876
                },
                "azdata_cell_guid": "93755e51-faa1-4df5-abec-37db17c79b00",
                "language": "python"
            },
            "outputs": [
                {
                    "output_type": "stream",
                    "name": "stdout",
                    "text": "Recall score:  \t0.4249222247514986\nPrecision score:0.5174368313225586\nF1 score:  \t0.43979093724142665\nHamming loss:  \t0.10356122113463338\nAccuracy score: 0.21056225813794674\n"
                }
            ],
            "execution_count": 47
        },
        {
            "cell_type": "markdown",
            "source": [
                "## Confusion matrix"
            ],
            "metadata": {
                "nteract": {
                    "transient": {
                        "deleting": false
                    }
                },
                "azdata_cell_guid": "a46d0408-8325-4d92-85b3-81a46d730fa8"
            }
        },
        {
            "cell_type": "code",
            "source": [
                "# Get prediction and labels\n",
                "preds = np.transpose(y_pred)\n",
                "labels = np.transpose(test_labels)\n",
                "\n",
                "accuracy_per_class = []\n",
                "precision_per_class = []\n",
                "recall_per_class = []\n",
                "f1_per_class = []\n",
                "classes = list(ml_bin.classes_)\n",
                "\n",
                "# Get scores for each genres\n",
                "for i in range(labels.shape[0]):\n",
                "  accuracy_per_class.append(accuracy_score(labels[i, :], preds[i, :]))\n",
                "  precision_per_class.append(precision_score(labels[i, :], preds[i, :]))\n",
                "  recall_per_class.append(recall_score(labels[i, :], preds[i, :]))\n",
                "  f1_per_class.append(f1_score(labels[i, :], preds[i, :]))\n",
                "\n",
                "  print(classes[i])\n",
                "  print(\"accuracy:\", accuracy_per_class[i], \"precision:\", precision_per_class[i],\n",
                "        \"recall:\", recall_per_class[i], \"f1:\", f1_per_class[i])\n",
                "\n",
                "  # Plot confusion matrix\n",
                "  cm  = confusion_matrix(labels[i, :], preds[i, :])\n",
                "  plt.figure()\n",
                "  plot_confusion_matrix(cm,figsize=(2,2), hide_ticks=True, cmap=plt.cm.Blues)\n",
                "  plt.xticks(range(2), ['1', '0'], fontsize=10)\n",
                "  plt.yticks(range(2), ['1', '0'], fontsize=10)\n",
                "  plt.show()"
            ],
            "metadata": {
                "jupyter": {
                    "source_hidden": false,
                    "outputs_hidden": false
                },
                "nteract": {
                    "transient": {
                        "deleting": false
                    }
                },
                "gather": {
                    "logged": 1671676612139
                },
                "azdata_cell_guid": "991202cd-317c-436c-bbdc-cf330e8d61bd",
                "language": "python"
            },
            "outputs": [
                {
                    "output_type": "stream",
                    "name": "stdout",
                    "text": "Action\naccuracy: 0.8349647165945823 precision: 0.551051051051051 recall: 0.46279949558638084 f1: 0.5030843043180261\n"
                },
                {
                    "output_type": "display_data",
                    "data": {
                        "text/plain": "<Figure size 1280x880 with 0 Axes>"
                    },
                    "metadata": {}
                },
                {
                    "output_type": "display_data",
                    "data": {
                        "text/plain": "<Figure size 200x200 with 1 Axes>",
                        "image/png": "[encoded data removed]"
                    },
                    "metadata": {}
                },
                {
                    "output_type": "stream",
                    "name": "stdout",
                    "text": "Adventure\naccuracy: 0.8695652173913043 precision: 0.3195121951219512 recall: 0.30823529411764705 f1: 0.3137724550898204\n"
                },
                {
                    "output_type": "display_data",
                    "data": {
                        "text/plain": "<Figure size 1280x880 with 0 Axes>"
                    },
                    "metadata": {}
                },
                {
                    "output_type": "display_data",
                    "data": {
                        "text/plain": "<Figure size 200x200 with 1 Axes>",
                        "image/png": "[encoded data removed]"
                    },
                    "metadata": {}
                },
                {
                    "output_type": "stream",
                    "name": "stdout",
                    "text": "Animation\naccuracy: 0.9267015706806283 precision: 0.42971887550200805 recall: 0.37282229965156793 f1: 0.39925373134328357\n"
                },
                {
                    "output_type": "display_data",
                    "data": {
                        "text/plain": "<Figure size 1280x880 with 0 Axes>"
                    },
                    "metadata": {}
                },
                {
                    "output_type": "display_data",
                    "data": {
                        "text/plain": "<Figure size 200x200 with 1 Axes>",
                        "image/png": "[encoded data removed]"
                    },
                    "metadata": {}
                },
                {
                    "output_type": "stream",
                    "name": "stdout",
                    "text": "Comedy\naccuracy: 0.8026405645344867 precision: 0.5278450363196125 recall: 0.47754654983570644 f1: 0.5014376078205866\n"
                },
                {
                    "output_type": "display_data",
                    "data": {
                        "text/plain": "<Figure size 1280x880 with 0 Axes>"
                    },
                    "metadata": {}
                },
                {
                    "output_type": "display_data",
                    "data": {
                        "text/plain": "<Figure size 200x200 with 1 Axes>",
                        "image/png": "[encoded data removed]"
                    },
                    "metadata": {}
                },
                {
                    "output_type": "stream",
                    "name": "stdout",
                    "text": "Crime\naccuracy: 0.905076257682677 precision: 0.38686131386861317 recall: 0.13730569948186527 f1: 0.20267686424474185\n"
                },
                {
                    "output_type": "display_data",
                    "data": {
                        "text/plain": "<Figure size 1280x880 with 0 Axes>"
                    },
                    "metadata": {}
                },
                {
                    "output_type": "display_data",
                    "data": {
                        "text/plain": "<Figure size 200x200 with 1 Axes>",
                        "image/png": "[encoded data removed]"
                    },
                    "metadata": {}
                },
                {
                    "output_type": "stream",
                    "name": "stdout",
                    "text": "Documentary\naccuracy: 0.9073526064193035 precision: 0.688858695652174 recall: 0.7401459854014598 f1: 0.7135819845179451\n"
                },
                {
                    "output_type": "display_data",
                    "data": {
                        "text/plain": "<Figure size 1280x880 with 0 Axes>"
                    },
                    "metadata": {}
                },
                {
                    "output_type": "display_data",
                    "data": {
                        "text/plain": "<Figure size 200x200 with 1 Axes>",
                        "image/png": "[encoded data removed]"
                    },
                    "metadata": {}
                },
                {
                    "output_type": "stream",
                    "name": "stdout",
                    "text": "Drama\naccuracy: 0.7263828818575006 precision: 0.4891587163920208 recall: 0.4791843670348343 f1: 0.4841201716738197\n"
                },
                {
                    "output_type": "display_data",
                    "data": {
                        "text/plain": "<Figure size 1280x880 with 0 Axes>"
                    },
                    "metadata": {}
                },
                {
                    "output_type": "display_data",
                    "data": {
                        "text/plain": "<Figure size 200x200 with 1 Axes>",
                        "image/png": "[encoded data removed]"
                    },
                    "metadata": {}
                },
                {
                    "output_type": "stream",
                    "name": "stdout",
                    "text": "Family\naccuracy: 0.9323924425221944 precision: 0.5486725663716814 recall: 0.2012987012987013 f1: 0.2945368171021378\n"
                },
                {
                    "output_type": "display_data",
                    "data": {
                        "text/plain": "<Figure size 1280x880 with 0 Axes>"
                    },
                    "metadata": {}
                },
                {
                    "output_type": "display_data",
                    "data": {
                        "text/plain": "<Figure size 200x200 with 1 Axes>",
                        "image/png": "[encoded data removed]"
                    },
                    "metadata": {}
                },
                {
                    "output_type": "stream",
                    "name": "stdout",
                    "text": "Fantasy\naccuracy: 0.933302982016845 precision: 0.2972972972972973 recall: 0.08365019011406843 f1: 0.13056379821958455\n"
                },
                {
                    "output_type": "display_data",
                    "data": {
                        "text/plain": "<Figure size 1280x880 with 0 Axes>"
                    },
                    "metadata": {}
                },
                {
                    "output_type": "display_data",
                    "data": {
                        "text/plain": "<Figure size 200x200 with 1 Axes>",
                        "image/png": "[encoded data removed]"
                    },
                    "metadata": {}
                },
                {
                    "output_type": "stream",
                    "name": "stdout",
                    "text": "History\naccuracy: 0.9740496244024585 precision: 0.08333333333333333 recall: 0.009615384615384616 f1: 0.017241379310344827\n"
                },
                {
                    "output_type": "display_data",
                    "data": {
                        "text/plain": "<Figure size 1280x880 with 0 Axes>"
                    },
                    "metadata": {}
                },
                {
                    "output_type": "display_data",
                    "data": {
                        "text/plain": "<Figure size 200x200 with 1 Axes>",
                        "image/png": "[encoded data removed]"
                    },
                    "metadata": {}
                },
                {
                    "output_type": "stream",
                    "name": "stdout",
                    "text": "Horror\naccuracy: 0.8770771682221716 precision: 0.703601108033241 recall: 0.3697234352256186 f1: 0.48473282442748095\n"
                },
                {
                    "output_type": "display_data",
                    "data": {
                        "text/plain": "<Figure size 1280x880 with 0 Axes>"
                    },
                    "metadata": {}
                },
                {
                    "output_type": "display_data",
                    "data": {
                        "text/plain": "<Figure size 200x200 with 1 Axes>",
                        "image/png": "[encoded data removed]"
                    },
                    "metadata": {}
                },
                {
                    "output_type": "stream",
                    "name": "stdout",
                    "text": "Music\naccuracy: 0.9676758479399044 precision: 0.5238095238095238 recall: 0.1527777777777778 f1: 0.23655913978494628\n"
                },
                {
                    "output_type": "display_data",
                    "data": {
                        "text/plain": "<Figure size 1280x880 with 0 Axes>"
                    },
                    "metadata": {}
                },
                {
                    "output_type": "display_data",
                    "data": {
                        "text/plain": "<Figure size 200x200 with 1 Axes>",
                        "image/png": "[encoded data removed]"
                    },
                    "metadata": {}
                },
                {
                    "output_type": "stream",
                    "name": "stdout",
                    "text": "Mystery\naccuracy: 0.9353516958798088 precision: 0.25 recall: 0.0035460992907801418 f1: 0.006993006993006993\n"
                },
                {
                    "output_type": "display_data",
                    "data": {
                        "text/plain": "<Figure size 1280x880 with 0 Axes>"
                    },
                    "metadata": {}
                },
                {
                    "output_type": "display_data",
                    "data": {
                        "text/plain": "<Figure size 200x200 with 1 Axes>",
                        "image/png": "[encoded data removed]"
                    },
                    "metadata": {}
                },
                {
                    "output_type": "stream",
                    "name": "stdout",
                    "text": "Romance\naccuracy: 0.8982472114727976 precision: 0.36923076923076925 recall: 0.18181818181818182 f1: 0.24365482233502533\n"
                },
                {
                    "output_type": "display_data",
                    "data": {
                        "text/plain": "<Figure size 1280x880 with 0 Axes>"
                    },
                    "metadata": {}
                },
                {
                    "output_type": "display_data",
                    "data": {
                        "text/plain": "<Figure size 200x200 with 1 Axes>",
                        "image/png": "[encoded data removed]"
                    },
                    "metadata": {}
                },
                {
                    "output_type": "stream",
                    "name": "stdout",
                    "text": "Science Fiction\naccuracy: 0.9130434782608695 precision: 0.5914634146341463 recall: 0.43891402714932126 f1: 0.5038961038961038\n"
                },
                {
                    "output_type": "display_data",
                    "data": {
                        "text/plain": "<Figure size 1280x880 with 0 Axes>"
                    },
                    "metadata": {}
                },
                {
                    "output_type": "display_data",
                    "data": {
                        "text/plain": "<Figure size 200x200 with 1 Axes>",
                        "image/png": "[encoded data removed]"
                    },
                    "metadata": {}
                },
                {
                    "output_type": "stream",
                    "name": "stdout",
                    "text": "Thriller\naccuracy: 0.7974049624402458 precision: 0.5111607142857143 recall: 0.2544444444444444 f1: 0.3397626112759644\n"
                },
                {
                    "output_type": "display_data",
                    "data": {
                        "text/plain": "<Figure size 1280x880 with 0 Axes>"
                    },
                    "metadata": {}
                },
                {
                    "output_type": "display_data",
                    "data": {
                        "text/plain": "<Figure size 200x200 with 1 Axes>",
                        "image/png": "[encoded data removed]"
                    },
                    "metadata": {}
                },
                {
                    "output_type": "stream",
                    "name": "stdout",
                    "text": "War\naccuracy: 0.9692692920555429 precision: 0.18309859154929578 recall: 0.14444444444444443 f1: 0.16149068322981364\n"
                },
                {
                    "output_type": "display_data",
                    "data": {
                        "text/plain": "<Figure size 1280x880 with 0 Axes>"
                    },
                    "metadata": {}
                },
                {
                    "output_type": "display_data",
                    "data": {
                        "text/plain": "<Figure size 200x200 with 1 Axes>",
                        "image/png": "[encoded data removed]"
                    },
                    "metadata": {}
                },
                {
                    "output_type": "stream",
                    "name": "stdout",
                    "text": "Western\naccuracy: 0.9653994992032779 precision: 0.40310077519379844 recall: 0.4094488188976378 f1: 0.40625\n"
                },
                {
                    "output_type": "display_data",
                    "data": {
                        "text/plain": "<Figure size 1280x880 with 0 Axes>"
                    },
                    "metadata": {}
                },
                {
                    "output_type": "display_data",
                    "data": {
                        "text/plain": "<Figure size 200x200 with 1 Axes>",
                        "image/png": "[encoded data removed]"
                    },
                    "metadata": {}
                }
            ],
            "execution_count": 48
        },
        {
            "cell_type": "markdown",
            "source": [
                "## Accuracy per class"
            ],
            "metadata": {
                "nteract": {
                    "transient": {
                        "deleting": false
                    }
                },
                "azdata_cell_guid": "b33d67ad-ca5c-408f-bae9-4d8b474c3843"
            }
        },
        {
            "cell_type": "code",
            "source": [
                "print(f'Accuracy score per class: \\t{np.mean(accuracy_per_class)}')\n",
                "print(f'Precision score per class: \\t{np.mean(precision_per_class)}')\n",
                "print(f'Recall score per class: \\t{np.mean(recall_per_class)}')\n",
                "print(f'F1 score per class: \\t\\t{np.mean(f1_per_class)}')"
            ],
            "metadata": {
                "jupyter": {
                    "source_hidden": false,
                    "outputs_hidden": false
                },
                "nteract": {
                    "transient": {
                        "deleting": false
                    }
                },
                "gather": {
                    "logged": 1671676629350
                },
                "azdata_cell_guid": "3fb3cb7b-523a-42fd-98ce-fae3b012156f",
                "language": "python"
            },
            "outputs": [
                {
                    "output_type": "stream",
                    "name": "stdout",
                    "text": "Accuracy score per class: \t0.8964387788653667\nPrecision score per class: \t0.43654299875812397\nRecall score per class: \t0.2904289553436568\nF1 score per class: \t\t0.3302004614212573\n"
                }
            ],
            "execution_count": 49
        },
        {
            "cell_type": "markdown",
            "source": [
                "# Conclusion"
            ],
            "metadata": {
                "nteract": {
                    "transient": {
                        "deleting": false
                    }
                },
                "azdata_cell_guid": "bfd4d35e-4893-413a-a5ae-0173c4856096"
            }
        },
        {
            "cell_type": "markdown",
            "source": [
                "We learned a lot about the entire machine learning approach to issue solving throughout the course of the project. The processes in the data preparation process include analyzing the data sources, cleaning and preparing the data, training different neural network models, and finally evaluating the outcomes. \n",
                "\n",
                "Our model's multi-genre classification accuracy was around 86%, which appears to be above average. This could be as a result of the few posters that are classified under just one genre. Albeit, we have tried to decrease the class imbalance by under sampling the dataset. We brought down the number of posters for drama from around 20,000 to 6,000 to even out the dataset.\n",
                "\n",
                "Our findings demonstrate that a neural network may be trained to recognize some of the semantics of a movie poster. But, there is still a lot of work to be done in image processing. Up to the moment where such models can actually be utilized to automatically classify trailers or other media in practice, more research might produce better outcomes. Given that CNN and LSTM models outperform other machine learning techniques in this domain, we advise placing additional emphasis on them.\n"
            ],
            "metadata": {
                "nteract": {
                    "transient": {
                        "deleting": false
                    }
                },
                "azdata_cell_guid": "b09a1155-d408-46b6-9b14-78d421ae26e1"
            }
        }
    ]
}